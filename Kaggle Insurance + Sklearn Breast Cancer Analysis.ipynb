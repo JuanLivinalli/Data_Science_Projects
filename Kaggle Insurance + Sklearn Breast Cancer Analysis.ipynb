{
 "cells": [
  {
   "cell_type": "markdown",
   "metadata": {},
   "source": [
    "# Kaggle Insurance Dataset\n",
    "\n",
    "In this section I will use patient data from a Kaggle Insurance Dataset in order to predict the medical insurance cost for each person. I will perform exploratory data analysis and apply regression techniques of supervised learning to predict the insurance charges."
   ]
  },
  {
   "cell_type": "code",
   "execution_count": 33,
   "metadata": {},
   "outputs": [],
   "source": [
    "import numpy as np\n",
    "import pandas as pd\n",
    "import sklearn as sk\n",
    "import seaborn as sns \n",
    "import matplotlib.pyplot as plt\n",
    "import statsmodels.api as sm\n",
    "import statsmodels.regression.linear_model as lm\n",
    "from statsmodels.stats.outliers_influence import OLSInfluence"
   ]
  },
  {
   "cell_type": "markdown",
   "metadata": {},
   "source": [
    "## Exploratory Data Analysis\n",
    "\n",
    "First we load and have a first look at our dataset."
   ]
  },
  {
   "cell_type": "code",
   "execution_count": 34,
   "metadata": {},
   "outputs": [
    {
     "data": {
      "text/html": [
       "<div>\n",
       "<style scoped>\n",
       "    .dataframe tbody tr th:only-of-type {\n",
       "        vertical-align: middle;\n",
       "    }\n",
       "\n",
       "    .dataframe tbody tr th {\n",
       "        vertical-align: top;\n",
       "    }\n",
       "\n",
       "    .dataframe thead th {\n",
       "        text-align: right;\n",
       "    }\n",
       "</style>\n",
       "<table border=\"1\" class=\"dataframe\">\n",
       "  <thead>\n",
       "    <tr style=\"text-align: right;\">\n",
       "      <th></th>\n",
       "      <th>age</th>\n",
       "      <th>sex</th>\n",
       "      <th>bmi</th>\n",
       "      <th>children</th>\n",
       "      <th>smoker</th>\n",
       "      <th>region</th>\n",
       "      <th>charges</th>\n",
       "    </tr>\n",
       "  </thead>\n",
       "  <tbody>\n",
       "    <tr>\n",
       "      <th>0</th>\n",
       "      <td>19</td>\n",
       "      <td>female</td>\n",
       "      <td>27.900</td>\n",
       "      <td>0</td>\n",
       "      <td>yes</td>\n",
       "      <td>southwest</td>\n",
       "      <td>16884.92400</td>\n",
       "    </tr>\n",
       "    <tr>\n",
       "      <th>1</th>\n",
       "      <td>18</td>\n",
       "      <td>male</td>\n",
       "      <td>33.770</td>\n",
       "      <td>1</td>\n",
       "      <td>no</td>\n",
       "      <td>southeast</td>\n",
       "      <td>1725.55230</td>\n",
       "    </tr>\n",
       "    <tr>\n",
       "      <th>2</th>\n",
       "      <td>28</td>\n",
       "      <td>male</td>\n",
       "      <td>33.000</td>\n",
       "      <td>3</td>\n",
       "      <td>no</td>\n",
       "      <td>southeast</td>\n",
       "      <td>4449.46200</td>\n",
       "    </tr>\n",
       "    <tr>\n",
       "      <th>3</th>\n",
       "      <td>33</td>\n",
       "      <td>male</td>\n",
       "      <td>22.705</td>\n",
       "      <td>0</td>\n",
       "      <td>no</td>\n",
       "      <td>northwest</td>\n",
       "      <td>21984.47061</td>\n",
       "    </tr>\n",
       "    <tr>\n",
       "      <th>4</th>\n",
       "      <td>32</td>\n",
       "      <td>male</td>\n",
       "      <td>28.880</td>\n",
       "      <td>0</td>\n",
       "      <td>no</td>\n",
       "      <td>northwest</td>\n",
       "      <td>3866.85520</td>\n",
       "    </tr>\n",
       "    <tr>\n",
       "      <th>...</th>\n",
       "      <td>...</td>\n",
       "      <td>...</td>\n",
       "      <td>...</td>\n",
       "      <td>...</td>\n",
       "      <td>...</td>\n",
       "      <td>...</td>\n",
       "      <td>...</td>\n",
       "    </tr>\n",
       "    <tr>\n",
       "      <th>1333</th>\n",
       "      <td>50</td>\n",
       "      <td>male</td>\n",
       "      <td>30.970</td>\n",
       "      <td>3</td>\n",
       "      <td>no</td>\n",
       "      <td>northwest</td>\n",
       "      <td>10600.54830</td>\n",
       "    </tr>\n",
       "    <tr>\n",
       "      <th>1334</th>\n",
       "      <td>18</td>\n",
       "      <td>female</td>\n",
       "      <td>31.920</td>\n",
       "      <td>0</td>\n",
       "      <td>no</td>\n",
       "      <td>northeast</td>\n",
       "      <td>2205.98080</td>\n",
       "    </tr>\n",
       "    <tr>\n",
       "      <th>1335</th>\n",
       "      <td>18</td>\n",
       "      <td>female</td>\n",
       "      <td>36.850</td>\n",
       "      <td>0</td>\n",
       "      <td>no</td>\n",
       "      <td>southeast</td>\n",
       "      <td>1629.83350</td>\n",
       "    </tr>\n",
       "    <tr>\n",
       "      <th>1336</th>\n",
       "      <td>21</td>\n",
       "      <td>female</td>\n",
       "      <td>25.800</td>\n",
       "      <td>0</td>\n",
       "      <td>no</td>\n",
       "      <td>southwest</td>\n",
       "      <td>2007.94500</td>\n",
       "    </tr>\n",
       "    <tr>\n",
       "      <th>1337</th>\n",
       "      <td>61</td>\n",
       "      <td>female</td>\n",
       "      <td>29.070</td>\n",
       "      <td>0</td>\n",
       "      <td>yes</td>\n",
       "      <td>northwest</td>\n",
       "      <td>29141.36030</td>\n",
       "    </tr>\n",
       "  </tbody>\n",
       "</table>\n",
       "<p>1338 rows × 7 columns</p>\n",
       "</div>"
      ],
      "text/plain": [
       "      age     sex     bmi  children smoker     region      charges\n",
       "0      19  female  27.900         0    yes  southwest  16884.92400\n",
       "1      18    male  33.770         1     no  southeast   1725.55230\n",
       "2      28    male  33.000         3     no  southeast   4449.46200\n",
       "3      33    male  22.705         0     no  northwest  21984.47061\n",
       "4      32    male  28.880         0     no  northwest   3866.85520\n",
       "...   ...     ...     ...       ...    ...        ...          ...\n",
       "1333   50    male  30.970         3     no  northwest  10600.54830\n",
       "1334   18  female  31.920         0     no  northeast   2205.98080\n",
       "1335   18  female  36.850         0     no  southeast   1629.83350\n",
       "1336   21  female  25.800         0     no  southwest   2007.94500\n",
       "1337   61  female  29.070         0    yes  northwest  29141.36030\n",
       "\n",
       "[1338 rows x 7 columns]"
      ]
     },
     "execution_count": 34,
     "metadata": {},
     "output_type": "execute_result"
    }
   ],
   "source": [
    "df = pd.read_csv(\"datasets_13720_18513_insurance.csv\")\n",
    "df.head()\n",
    "df"
   ]
  },
  {
   "cell_type": "markdown",
   "metadata": {},
   "source": [
    "We can see that columns 'age', 'bmi' and 'children' are numerical, while columns 'sex','smoker' and 'region' are categorical.\n",
    "Column 'charges' is the values we are trying to predict and it is numerical, therefore we have to apply a regression model to predict these values.<br>\n",
    "\n",
    "To analyse how the numerical columns 'age' and 'charge' behave against the 'charges' column we will use scatter plots:"
   ]
  },
  {
   "cell_type": "code",
   "execution_count": 35,
   "metadata": {},
   "outputs": [
    {
     "data": {
      "image/png": "[encoded data removed]",
      "text/plain": [
       "<Figure size 432x288 with 1 Axes>"
      ]
     },
     "metadata": {
      "needs_background": "light"
     },
     "output_type": "display_data"
    }
   ],
   "source": [
    "ageplot = sns.scatterplot(x=\"age\", y=\"charges\", data=df)"
   ]
  },
  {
   "cell_type": "code",
   "execution_count": 36,
   "metadata": {},
   "outputs": [
    {
     "data": {
      "image/png": "[encoded data removed]",
      "text/plain": [
       "<Figure size 432x288 with 1 Axes>"
      ]
     },
     "metadata": {
      "needs_background": "light"
     },
     "output_type": "display_data"
    }
   ],
   "source": [
    "bmiplot = sns.scatterplot(x=\"bmi\", y=\"charges\", data=df)"
   ]
  },
  {
   "cell_type": "markdown",
   "metadata": {},
   "source": [
    "We can see that in the first plot there are 3 visible groups/lines and in all there is a relatively linear trend upwards where the older the age, the higher the prices. This means that 'age' could be a good potential variable to include in a linear model to predict 'charges'.<br>\n",
    "\n",
    "In the second plot there is a sort of trend of charges increasing with bmi but is not as clear as in the first plot. There  could be 2 groups within bmi that have different trend slopes.\n"
   ]
  },
  {
   "cell_type": "markdown",
   "metadata": {},
   "source": [
    "Next we will review the behaviour of categorical variables 'sex','smoker','region' and 'children' against the 'charges' column. We will use box and whisker plots are they tend to be good graphs for visualizing categorical data."
   ]
  },
  {
   "cell_type": "code",
   "execution_count": 37,
   "metadata": {},
   "outputs": [
    {
     "data": {
      "image/png": "[encoded data removed]",
      "text/plain": [
       "<Figure size 684x684 with 4 Axes>"
      ]
     },
     "metadata": {
      "needs_background": "light"
     },
     "output_type": "display_data"
    }
   ],
   "source": [
    "fig, axs = plt.subplots(2,2)\n",
    "sexplot = sns.boxplot(x=\"sex\", y=\"charges\", data=df, ax=axs[0,0])\n",
    "smokerplot = sns.boxplot(x=\"smoker\", y=\"charges\", data=df, ax=axs[0,1])\n",
    "childrenplot = sns.boxplot(x=\"children\", y=\"charges\", data=df, ax=axs[1,0])\n",
    "regionplot = sns.boxplot(x=\"region\", y=\"charges\", data=df, ax=axs[1,1])\n",
    "fig.set_size_inches(9.5, 9.5)\n",
    "fig.tight_layout()"
   ]
  },
  {
   "cell_type": "markdown",
   "metadata": {},
   "source": [
    "Analysing the 1st graph, we can see that the mean charge in male and female is the same so we are not expecting the 'sex' variable to highly influence the charge. We see the same happening on the 4th graph where the mean of all regions is the same, so we are also not expecting this variable to have high influence. On the other hand we can see on the 2nd graph that the means and boxes of smokers and non-smokers are significantly different, smokers have higher insurance charges than non-smokers. We can infer that the 'smoker' column has a high influence on the charge.Finally, on the 3rd graph the means of the different children numbers are different but near each other, so the 'children' column might have some influence on the charges."
   ]
  },
  {
   "cell_type": "markdown",
   "metadata": {},
   "source": [
    "Next, we will plot a correlation matrix to validate if our previous assumptions of correlation between these variables and the charges are true. We will also check if there is any high correlation between input variables, as this could bring multicollinearity into our regression model and we want to avoid that to have in order to have a stable model.<br>\n",
    "\n",
    "We will need to encode the categorical variables in order to build the correlation matrix. We will use sklearn's LabelEncoder to encode columns 'sex', 'smoker', and 'region'."
   ]
  },
  {
   "cell_type": "code",
   "execution_count": 38,
   "metadata": {},
   "outputs": [
    {
     "data": {
      "text/plain": [
       "<matplotlib.axes._subplots.AxesSubplot at 0x174eb1c0>"
      ]
     },
     "execution_count": 38,
     "metadata": {},
     "output_type": "execute_result"
    },
    {
     "data": {
      "image/png": "[encoded data removed]",
      "text/plain": [
       "<Figure size 720x576 with 2 Axes>"
      ]
     },
     "metadata": {
      "needs_background": "light"
     },
     "output_type": "display_data"
    }
   ],
   "source": [
    "#encoding categorical variables\n",
    "from sklearn.preprocessing import LabelEncoder\n",
    "le = LabelEncoder()\n",
    "#sex\n",
    "le.fit(df.sex) \n",
    "df.sex = le.transform(df.sex)\n",
    "#smoker\n",
    "le.fit(df.smoker) \n",
    "df.smoker = le.transform(df.smoker)\n",
    "#region\n",
    "le.fit(df.region) \n",
    "df.region = le.transform(df.region)\n",
    "\n",
    "#Building the correlation matrix heatmap\n",
    "\n",
    "f, ax = plt.subplots(figsize=(10, 8))\n",
    "corr = df.corr()\n",
    "sns.heatmap(corr, mask=np.zeros_like(corr, dtype=np.bool), cmap=sns.diverging_palette(240,10,as_cmap=True),\n",
    "            square=True, ax=ax)\n"
   ]
  },
  {
   "cell_type": "markdown",
   "metadata": {},
   "source": [
    "By looking at the correlation matrix we can confirm our previous assumption that smoking is highly correlated to the insurance charges. We can also see that, as previously suspected when looking at numerical columns vs charge scatteplots, age and bmi also have some correlation with the charges. Finally we see that there's no high correlation between input variables, which means that we will be able to build a fairly stable linear regression model with multiple variables. "
   ]
  },
  {
   "cell_type": "markdown",
   "metadata": {},
   "source": [
    "## Data Cleaning and Preprocessing\n",
    "\n",
    "In this section we will perform a list of steps to clean and transform our data to ensure that it's ready for model ingestion. First, we check if there are any null values in the data that should be addressed."
   ]
  },
  {
   "cell_type": "code",
   "execution_count": 39,
   "metadata": {
    "scrolled": true
   },
   "outputs": [
    {
     "data": {
      "text/plain": [
       "False"
      ]
     },
     "execution_count": 39,
     "metadata": {},
     "output_type": "execute_result"
    }
   ],
   "source": [
    "#Check if there are any null values\n",
    "df.isnull().values.any()"
   ]
  },
  {
   "cell_type": "markdown",
   "metadata": {},
   "source": [
    "There are no null values that we have to address so we move to the next cleaning step, removing row duplicates from the data."
   ]
  },
  {
   "cell_type": "code",
   "execution_count": 40,
   "metadata": {},
   "outputs": [],
   "source": [
    "#Eliminate any duplicate rows in the dataframe\n",
    "df.drop_duplicates(keep = False, inplace = True)"
   ]
  },
  {
   "cell_type": "markdown",
   "metadata": {},
   "source": [
    "Next, we will perform one-hot-encoding on the 'region' column. We are performing this step to avoid using the ordinal values built before using LabelEncoder since we want to avoid the model treating this categorical column as ordinal."
   ]
  },
  {
   "cell_type": "code",
   "execution_count": 41,
   "metadata": {},
   "outputs": [
    {
     "data": {
      "text/html": [
       "<div>\n",
       "<style scoped>\n",
       "    .dataframe tbody tr th:only-of-type {\n",
       "        vertical-align: middle;\n",
       "    }\n",
       "\n",
       "    .dataframe tbody tr th {\n",
       "        vertical-align: top;\n",
       "    }\n",
       "\n",
       "    .dataframe thead th {\n",
       "        text-align: right;\n",
       "    }\n",
       "</style>\n",
       "<table border=\"1\" class=\"dataframe\">\n",
       "  <thead>\n",
       "    <tr style=\"text-align: right;\">\n",
       "      <th></th>\n",
       "      <th>age</th>\n",
       "      <th>sex</th>\n",
       "      <th>bmi</th>\n",
       "      <th>children</th>\n",
       "      <th>smoker</th>\n",
       "      <th>charges</th>\n",
       "      <th>southwest</th>\n",
       "      <th>southeast</th>\n",
       "      <th>northwest</th>\n",
       "      <th>northeast</th>\n",
       "    </tr>\n",
       "  </thead>\n",
       "  <tbody>\n",
       "    <tr>\n",
       "      <th>0</th>\n",
       "      <td>19</td>\n",
       "      <td>0</td>\n",
       "      <td>27.900</td>\n",
       "      <td>0</td>\n",
       "      <td>1</td>\n",
       "      <td>16884.92400</td>\n",
       "      <td>1</td>\n",
       "      <td>0</td>\n",
       "      <td>0</td>\n",
       "      <td>0</td>\n",
       "    </tr>\n",
       "    <tr>\n",
       "      <th>1</th>\n",
       "      <td>18</td>\n",
       "      <td>1</td>\n",
       "      <td>33.770</td>\n",
       "      <td>1</td>\n",
       "      <td>0</td>\n",
       "      <td>1725.55230</td>\n",
       "      <td>0</td>\n",
       "      <td>1</td>\n",
       "      <td>0</td>\n",
       "      <td>0</td>\n",
       "    </tr>\n",
       "    <tr>\n",
       "      <th>2</th>\n",
       "      <td>28</td>\n",
       "      <td>1</td>\n",
       "      <td>33.000</td>\n",
       "      <td>3</td>\n",
       "      <td>0</td>\n",
       "      <td>4449.46200</td>\n",
       "      <td>0</td>\n",
       "      <td>1</td>\n",
       "      <td>0</td>\n",
       "      <td>0</td>\n",
       "    </tr>\n",
       "    <tr>\n",
       "      <th>3</th>\n",
       "      <td>33</td>\n",
       "      <td>1</td>\n",
       "      <td>22.705</td>\n",
       "      <td>0</td>\n",
       "      <td>0</td>\n",
       "      <td>21984.47061</td>\n",
       "      <td>0</td>\n",
       "      <td>0</td>\n",
       "      <td>1</td>\n",
       "      <td>0</td>\n",
       "    </tr>\n",
       "    <tr>\n",
       "      <th>4</th>\n",
       "      <td>32</td>\n",
       "      <td>1</td>\n",
       "      <td>28.880</td>\n",
       "      <td>0</td>\n",
       "      <td>0</td>\n",
       "      <td>3866.85520</td>\n",
       "      <td>0</td>\n",
       "      <td>0</td>\n",
       "      <td>1</td>\n",
       "      <td>0</td>\n",
       "    </tr>\n",
       "    <tr>\n",
       "      <th>...</th>\n",
       "      <td>...</td>\n",
       "      <td>...</td>\n",
       "      <td>...</td>\n",
       "      <td>...</td>\n",
       "      <td>...</td>\n",
       "      <td>...</td>\n",
       "      <td>...</td>\n",
       "      <td>...</td>\n",
       "      <td>...</td>\n",
       "      <td>...</td>\n",
       "    </tr>\n",
       "    <tr>\n",
       "      <th>1333</th>\n",
       "      <td>50</td>\n",
       "      <td>1</td>\n",
       "      <td>30.970</td>\n",
       "      <td>3</td>\n",
       "      <td>0</td>\n",
       "      <td>10600.54830</td>\n",
       "      <td>0</td>\n",
       "      <td>0</td>\n",
       "      <td>1</td>\n",
       "      <td>0</td>\n",
       "    </tr>\n",
       "    <tr>\n",
       "      <th>1334</th>\n",
       "      <td>18</td>\n",
       "      <td>0</td>\n",
       "      <td>31.920</td>\n",
       "      <td>0</td>\n",
       "      <td>0</td>\n",
       "      <td>2205.98080</td>\n",
       "      <td>0</td>\n",
       "      <td>0</td>\n",
       "      <td>0</td>\n",
       "      <td>1</td>\n",
       "    </tr>\n",
       "    <tr>\n",
       "      <th>1335</th>\n",
       "      <td>18</td>\n",
       "      <td>0</td>\n",
       "      <td>36.850</td>\n",
       "      <td>0</td>\n",
       "      <td>0</td>\n",
       "      <td>1629.83350</td>\n",
       "      <td>0</td>\n",
       "      <td>1</td>\n",
       "      <td>0</td>\n",
       "      <td>0</td>\n",
       "    </tr>\n",
       "    <tr>\n",
       "      <th>1336</th>\n",
       "      <td>21</td>\n",
       "      <td>0</td>\n",
       "      <td>25.800</td>\n",
       "      <td>0</td>\n",
       "      <td>0</td>\n",
       "      <td>2007.94500</td>\n",
       "      <td>1</td>\n",
       "      <td>0</td>\n",
       "      <td>0</td>\n",
       "      <td>0</td>\n",
       "    </tr>\n",
       "    <tr>\n",
       "      <th>1337</th>\n",
       "      <td>61</td>\n",
       "      <td>0</td>\n",
       "      <td>29.070</td>\n",
       "      <td>0</td>\n",
       "      <td>1</td>\n",
       "      <td>29141.36030</td>\n",
       "      <td>0</td>\n",
       "      <td>0</td>\n",
       "      <td>1</td>\n",
       "      <td>0</td>\n",
       "    </tr>\n",
       "  </tbody>\n",
       "</table>\n",
       "<p>1336 rows × 10 columns</p>\n",
       "</div>"
      ],
      "text/plain": [
       "      age  sex     bmi  children  smoker      charges  southwest  southeast  \\\n",
       "0      19    0  27.900         0       1  16884.92400          1          0   \n",
       "1      18    1  33.770         1       0   1725.55230          0          1   \n",
       "2      28    1  33.000         3       0   4449.46200          0          1   \n",
       "3      33    1  22.705         0       0  21984.47061          0          0   \n",
       "4      32    1  28.880         0       0   3866.85520          0          0   \n",
       "...   ...  ...     ...       ...     ...          ...        ...        ...   \n",
       "1333   50    1  30.970         3       0  10600.54830          0          0   \n",
       "1334   18    0  31.920         0       0   2205.98080          0          0   \n",
       "1335   18    0  36.850         0       0   1629.83350          0          1   \n",
       "1336   21    0  25.800         0       0   2007.94500          1          0   \n",
       "1337   61    0  29.070         0       1  29141.36030          0          0   \n",
       "\n",
       "      northwest  northeast  \n",
       "0             0          0  \n",
       "1             0          0  \n",
       "2             0          0  \n",
       "3             1          0  \n",
       "4             1          0  \n",
       "...         ...        ...  \n",
       "1333          1          0  \n",
       "1334          0          1  \n",
       "1335          0          0  \n",
       "1336          0          0  \n",
       "1337          1          0  \n",
       "\n",
       "[1336 rows x 10 columns]"
      ]
     },
     "execution_count": 41,
     "metadata": {},
     "output_type": "execute_result"
    }
   ],
   "source": [
    "#column region one-hot encoding\n",
    "dum_region = pd.get_dummies(data = df[\"region\"])\n",
    "df[\"southwest\"]=dum_region[3].to_list()\n",
    "df[\"southeast\"]=dum_region[2].to_list()\n",
    "df[\"northwest\"]=dum_region[1].to_list()\n",
    "df[\"northeast\"]=dum_region[0].to_list()\n",
    "df.drop(\"region\",axis='columns',inplace=True)\n",
    "df"
   ]
  },
  {
   "cell_type": "markdown",
   "metadata": {},
   "source": [
    "We drop column 'northeast' as it can be calculate using the 3 other region columns. "
   ]
  },
  {
   "cell_type": "code",
   "execution_count": 42,
   "metadata": {},
   "outputs": [],
   "source": [
    "df.drop(\"northeast\",axis='columns',inplace=True)"
   ]
  },
  {
   "cell_type": "markdown",
   "metadata": {},
   "source": [
    "## Model selection and evaluation\n",
    "\n",
    "For this regression problem, we will use Ordinary Least Squares as our model for predicting the charges. Ordinary Least Squares (OLS) regression is a statistical method of analysis that estimates the relationship between one or more independent variables and a dependent variable; the method estimates the relationship by minimizing the sum of the squares in the difference between the observed and predicted values of the dependent variable configured as a straight line. \n",
    "\n",
    "We will use columns 'smoker', 'age' and 'bmi' as our predictors in the linear model since we've seen in previous charts that these columns have correlation with the charges. At this moment, we will not include any other input variable as we want to ensure that our model is parsimonious, with the least amount of independent variables capable of predicting the charges."
   ]
  },
  {
   "cell_type": "code",
   "execution_count": 43,
   "metadata": {},
   "outputs": [
    {
     "data": {
      "text/html": [
       "<table class=\"simpletable\">\n",
       "<caption>OLS Regression Results</caption>\n",
       "<tr>\n",
       "  <th>Dep. Variable:</th>         <td>charges</td>     <th>  R-squared:         </th> <td>   0.747</td> \n",
       "</tr>\n",
       "<tr>\n",
       "  <th>Model:</th>                   <td>OLS</td>       <th>  Adj. R-squared:    </th> <td>   0.747</td> \n",
       "</tr>\n",
       "<tr>\n",
       "  <th>Method:</th>             <td>Least Squares</td>  <th>  F-statistic:       </th> <td>   1312.</td> \n",
       "</tr>\n",
       "<tr>\n",
       "  <th>Date:</th>             <td>Wed, 23 Sep 2020</td> <th>  Prob (F-statistic):</th>  <td>  0.00</td>  \n",
       "</tr>\n",
       "<tr>\n",
       "  <th>Time:</th>                 <td>20:42:06</td>     <th>  Log-Likelihood:    </th> <td> -13538.</td> \n",
       "</tr>\n",
       "<tr>\n",
       "  <th>No. Observations:</th>      <td>  1336</td>      <th>  AIC:               </th> <td>2.708e+04</td>\n",
       "</tr>\n",
       "<tr>\n",
       "  <th>Df Residuals:</th>          <td>  1332</td>      <th>  BIC:               </th> <td>2.710e+04</td>\n",
       "</tr>\n",
       "<tr>\n",
       "  <th>Df Model:</th>              <td>     3</td>      <th>                     </th>     <td> </td>    \n",
       "</tr>\n",
       "<tr>\n",
       "  <th>Covariance Type:</th>      <td>nonrobust</td>    <th>                     </th>     <td> </td>    \n",
       "</tr>\n",
       "</table>\n",
       "<table class=\"simpletable\">\n",
       "<tr>\n",
       "     <td></td>       <th>coef</th>     <th>std err</th>      <th>t</th>      <th>P>|t|</th>  <th>[0.025</th>    <th>0.975]</th>  \n",
       "</tr>\n",
       "<tr>\n",
       "  <th>const</th>  <td>-1.167e+04</td> <td>  938.705</td> <td>  -12.428</td> <td> 0.000</td> <td>-1.35e+04</td> <td>-9825.031</td>\n",
       "</tr>\n",
       "<tr>\n",
       "  <th>smoker</th> <td> 2.382e+04</td> <td>  413.250</td> <td>   57.642</td> <td> 0.000</td> <td>  2.3e+04</td> <td> 2.46e+04</td>\n",
       "</tr>\n",
       "<tr>\n",
       "  <th>bmi</th>    <td>  322.6702</td> <td>   27.507</td> <td>   11.730</td> <td> 0.000</td> <td>  268.708</td> <td>  376.632</td>\n",
       "</tr>\n",
       "<tr>\n",
       "  <th>age</th>    <td>  259.3144</td> <td>   11.962</td> <td>   21.679</td> <td> 0.000</td> <td>  235.849</td> <td>  282.780</td>\n",
       "</tr>\n",
       "</table>\n",
       "<table class=\"simpletable\">\n",
       "<tr>\n",
       "  <th>Omnibus:</th>       <td>298.590</td> <th>  Durbin-Watson:     </th> <td>   2.077</td> \n",
       "</tr>\n",
       "<tr>\n",
       "  <th>Prob(Omnibus):</th> <td> 0.000</td>  <th>  Jarque-Bera (JB):  </th> <td> 705.516</td> \n",
       "</tr>\n",
       "<tr>\n",
       "  <th>Skew:</th>          <td> 1.212</td>  <th>  Prob(JB):          </th> <td>6.30e-154</td>\n",
       "</tr>\n",
       "<tr>\n",
       "  <th>Kurtosis:</th>      <td> 5.608</td>  <th>  Cond. No.          </th> <td>    289.</td> \n",
       "</tr>\n",
       "</table><br/><br/>Warnings:<br/>[1] Standard Errors assume that the covariance matrix of the errors is correctly specified."
      ],
      "text/plain": [
       "<class 'statsmodels.iolib.summary.Summary'>\n",
       "\"\"\"\n",
       "                            OLS Regression Results                            \n",
       "==============================================================================\n",
       "Dep. Variable:                charges   R-squared:                       0.747\n",
       "Model:                            OLS   Adj. R-squared:                  0.747\n",
       "Method:                 Least Squares   F-statistic:                     1312.\n",
       "Date:                Wed, 23 Sep 2020   Prob (F-statistic):               0.00\n",
       "Time:                        20:42:06   Log-Likelihood:                -13538.\n",
       "No. Observations:                1336   AIC:                         2.708e+04\n",
       "Df Residuals:                    1332   BIC:                         2.710e+04\n",
       "Df Model:                           3                                         \n",
       "Covariance Type:            nonrobust                                         \n",
       "==============================================================================\n",
       "                 coef    std err          t      P>|t|      [0.025      0.975]\n",
       "------------------------------------------------------------------------------\n",
       "const      -1.167e+04    938.705    -12.428      0.000   -1.35e+04   -9825.031\n",
       "smoker      2.382e+04    413.250     57.642      0.000     2.3e+04    2.46e+04\n",
       "bmi          322.6702     27.507     11.730      0.000     268.708     376.632\n",
       "age          259.3144     11.962     21.679      0.000     235.849     282.780\n",
       "==============================================================================\n",
       "Omnibus:                      298.590   Durbin-Watson:                   2.077\n",
       "Prob(Omnibus):                  0.000   Jarque-Bera (JB):              705.516\n",
       "Skew:                           1.212   Prob(JB):                    6.30e-154\n",
       "Kurtosis:                       5.608   Cond. No.                         289.\n",
       "==============================================================================\n",
       "\n",
       "Warnings:\n",
       "[1] Standard Errors assume that the covariance matrix of the errors is correctly specified.\n",
       "\"\"\""
      ]
     },
     "execution_count": 43,
     "metadata": {},
     "output_type": "execute_result"
    }
   ],
   "source": [
    "#preparing inputs (X) and target (Y)\n",
    "X = df.loc[:,[\"smoker\",\"bmi\",\"age\"]]\n",
    "y = df.loc[:,\"charges\"]\n",
    "\n",
    "#add an intercept constant value\n",
    "X = sm.add_constant(X)\n",
    "\n",
    "#fitting the model\n",
    "model = lm.OLS(y,X).fit()\n",
    "\n",
    "#summary\n",
    "model.summary()"
   ]
  },
  {
   "cell_type": "code",
   "execution_count": 58,
   "metadata": {},
   "outputs": [
    {
     "data": {
      "text/plain": [
       "array([34799.96592855])"
      ]
     },
     "execution_count": 58,
     "metadata": {},
     "output_type": "execute_result"
    }
   ],
   "source": [
    "#type(X.iloc[1])\n",
    "\n",
    "\n",
    "model.predict([1,1,30,50])"
   ]
  },
  {
   "cell_type": "code",
   "execution_count": 55,
   "metadata": {},
   "outputs": [
    {
     "data": {
      "text/plain": [
       "const      1.00\n",
       "smoker     0.00\n",
       "bmi       33.77\n",
       "age       18.00\n",
       "Name: 1, dtype: float64"
      ]
     },
     "execution_count": 55,
     "metadata": {},
     "output_type": "execute_result"
    }
   ],
   "source": [
    "X.iloc[1]"
   ]
  },
  {
   "cell_type": "markdown",
   "metadata": {},
   "source": [
    "After fitting our model, we can see that the model has an R-squared of 0.747 which means that the model is perfoming quite well and is capable of predicting most of the variance in the charges (R-squared is a statistical measure that represents the proportion of the variance for a dependent variable that's explained by an independent variable or variables in a regression model, it varies from 0 to 1, with 1 being a perfect model fit)\n",
    "\n",
    "We can also see that the P-value for the intercept value as well as the three variables 'smoker', 'bmi' and 'age' is below 0.001 which means that all variables are significant to the model.\n"
   ]
  },
  {
   "cell_type": "markdown",
   "metadata": {},
   "source": [
    "Now, we can to make sure that our model is not being largely affected by any outliers with high influence, as these outliers could be negatively affect the fit of our model. To measure if there are any outliers in our data we will use Cook’s distance. Cook’s distance shows the influence of each observation on the fitted response values. An observation with Cook’s distance larger than three times the mean Cook’s distance might be an outlier. "
   ]
  },
  {
   "cell_type": "code",
   "execution_count": 14,
   "metadata": {},
   "outputs": [
    {
     "name": "stderr",
     "output_type": "stream",
     "text": [
      "<ipython-input-14-fa479629e768>:10: UserWarning: In Matplotlib 3.3 individual lines on a stem plot will be added as a LineCollection instead of individual lines. This significantly improves the performance of a stem plot. To remove this warning and switch to the new behaviour, set the \"use_line_collection\" keyword argument to True.\n",
      "  plt.stem(distance, basefmt=\" \")\n"
     ]
    },
    {
     "data": {
      "image/png": "[encoded data removed]",
      "text/plain": [
       "<Figure size 936x504 with 1 Axes>"
      ]
     },
     "metadata": {
      "needs_background": "light"
     },
     "output_type": "display_data"
    }
   ],
   "source": [
    "#plot size\n",
    "plt.figure(figsize=(13,7))\n",
    "\n",
    "# calculate the cooks_distance - the OLSInfluence object contains multiple influence measurements\n",
    "cook_distance = OLSInfluence(model).cooks_distance\n",
    "(distance, p_value) = cook_distance\n",
    "\n",
    "\n",
    "# stem plot - the x-axis represents the index of the observation and the y-axis its Cook's distance\n",
    "plt.stem(distance, basefmt=\" \")\n",
    "\n",
    "# the observations with Cook's distances higher than the threshold value are labeled in the plot\n",
    "influencial_data = distance[distance]\n",
    "\n",
    "# ticks\n",
    "plt.xticks(fontsize=14)\n",
    "plt.yticks(fontsize=14)\n",
    "\n",
    "# labels and title\n",
    "plt.xlabel('index', fontsize=14)\n",
    "plt.ylabel('cook\\'s distance', fontsize=14)\n",
    "\n",
    "plt.show()"
   ]
  },
  {
   "cell_type": "markdown",
   "metadata": {},
   "source": [
    "All values have a Cook's distance lower than 1, therefore we can assume there are no influencial outlier cases."
   ]
  },
  {
   "cell_type": "markdown",
   "metadata": {},
   "source": [
    "Finally, using the trained model I will create a function that can predict the insurance charges of a person given the person's smoker status, bmi and age."
   ]
  },
  {
   "cell_type": "code",
   "execution_count": 72,
   "metadata": {},
   "outputs": [
    {
     "name": "stdout",
     "output_type": "stream",
     "text": [
      "The predicted insurance charge is: 10195.46\n"
     ]
    }
   ],
   "source": [
    "def predict_charges(smoker, bmi, age):\n",
    "    return print(\"The predicted insurance charge is: \"+str(round(model.predict([1,smoker,bmi,age])[0],2)))\n",
    "\n",
    "#Using the predict_charges function with user input values\n",
    "predict_charges(smoker=0,bmi=34,age=42)"
   ]
  },
  {
   "cell_type": "markdown",
   "metadata": {},
   "source": [
    "## Next Steps\n",
    "\n",
    "For futher analysis, different multivariate regression models could be built by adding combinations of the remaining columns 'region', 'sex' and 'children' to the already used variables in our model. The models could be compared to find and choose the one that predicts the most variability in the charges, as we as to obtain more insights into the behaviour of the variables in the dataset. "
   ]
  },
  {
   "cell_type": "markdown",
   "metadata": {},
   "source": [
    "# Sklearn Breast Cancer Dataset\n",
    "In this section I will load the breast cancer dataset available from the sklearn package which contains patient information and indicates whether a patient has breast cancer or not. I will then perform exploratory data analysis, identify the algorithm suitable to detecting breast cancer and present appropriate performance metrics."
   ]
  },
  {
   "cell_type": "markdown",
   "metadata": {},
   "source": [
    "## Data Load"
   ]
  },
  {
   "cell_type": "code",
   "execution_count": 80,
   "metadata": {},
   "outputs": [],
   "source": [
    "import pandas as pd\n",
    "from sklearn.datasets import load_breast_cancer\n",
    "data = load_breast_cancer()\n",
    "X = pd.DataFrame(data.data, columns = data.feature_names)\n",
    "y = pd.DataFrame(data.target,columns =['target'])"
   ]
  },
  {
   "cell_type": "markdown",
   "metadata": {},
   "source": [
    "## Exploratory Data Analysis\n",
    "First we load and have a first look at our dataset."
   ]
  },
  {
   "cell_type": "code",
   "execution_count": 75,
   "metadata": {},
   "outputs": [
    {
     "data": {
      "text/html": [
       "<div>\n",
       "<style scoped>\n",
       "    .dataframe tbody tr th:only-of-type {\n",
       "        vertical-align: middle;\n",
       "    }\n",
       "\n",
       "    .dataframe tbody tr th {\n",
       "        vertical-align: top;\n",
       "    }\n",
       "\n",
       "    .dataframe thead th {\n",
       "        text-align: right;\n",
       "    }\n",
       "</style>\n",
       "<table border=\"1\" class=\"dataframe\">\n",
       "  <thead>\n",
       "    <tr style=\"text-align: right;\">\n",
       "      <th></th>\n",
       "      <th>mean radius</th>\n",
       "      <th>mean texture</th>\n",
       "      <th>mean perimeter</th>\n",
       "      <th>mean area</th>\n",
       "      <th>mean smoothness</th>\n",
       "      <th>mean compactness</th>\n",
       "      <th>mean concavity</th>\n",
       "      <th>mean concave points</th>\n",
       "      <th>mean symmetry</th>\n",
       "      <th>mean fractal dimension</th>\n",
       "      <th>...</th>\n",
       "      <th>worst radius</th>\n",
       "      <th>worst texture</th>\n",
       "      <th>worst perimeter</th>\n",
       "      <th>worst area</th>\n",
       "      <th>worst smoothness</th>\n",
       "      <th>worst compactness</th>\n",
       "      <th>worst concavity</th>\n",
       "      <th>worst concave points</th>\n",
       "      <th>worst symmetry</th>\n",
       "      <th>worst fractal dimension</th>\n",
       "    </tr>\n",
       "  </thead>\n",
       "  <tbody>\n",
       "    <tr>\n",
       "      <th>0</th>\n",
       "      <td>17.99</td>\n",
       "      <td>10.38</td>\n",
       "      <td>122.80</td>\n",
       "      <td>1001.0</td>\n",
       "      <td>0.11840</td>\n",
       "      <td>0.27760</td>\n",
       "      <td>0.3001</td>\n",
       "      <td>0.14710</td>\n",
       "      <td>0.2419</td>\n",
       "      <td>0.07871</td>\n",
       "      <td>...</td>\n",
       "      <td>25.38</td>\n",
       "      <td>17.33</td>\n",
       "      <td>184.60</td>\n",
       "      <td>2019.0</td>\n",
       "      <td>0.1622</td>\n",
       "      <td>0.6656</td>\n",
       "      <td>0.7119</td>\n",
       "      <td>0.2654</td>\n",
       "      <td>0.4601</td>\n",
       "      <td>0.11890</td>\n",
       "    </tr>\n",
       "    <tr>\n",
       "      <th>1</th>\n",
       "      <td>20.57</td>\n",
       "      <td>17.77</td>\n",
       "      <td>132.90</td>\n",
       "      <td>1326.0</td>\n",
       "      <td>0.08474</td>\n",
       "      <td>0.07864</td>\n",
       "      <td>0.0869</td>\n",
       "      <td>0.07017</td>\n",
       "      <td>0.1812</td>\n",
       "      <td>0.05667</td>\n",
       "      <td>...</td>\n",
       "      <td>24.99</td>\n",
       "      <td>23.41</td>\n",
       "      <td>158.80</td>\n",
       "      <td>1956.0</td>\n",
       "      <td>0.1238</td>\n",
       "      <td>0.1866</td>\n",
       "      <td>0.2416</td>\n",
       "      <td>0.1860</td>\n",
       "      <td>0.2750</td>\n",
       "      <td>0.08902</td>\n",
       "    </tr>\n",
       "    <tr>\n",
       "      <th>2</th>\n",
       "      <td>19.69</td>\n",
       "      <td>21.25</td>\n",
       "      <td>130.00</td>\n",
       "      <td>1203.0</td>\n",
       "      <td>0.10960</td>\n",
       "      <td>0.15990</td>\n",
       "      <td>0.1974</td>\n",
       "      <td>0.12790</td>\n",
       "      <td>0.2069</td>\n",
       "      <td>0.05999</td>\n",
       "      <td>...</td>\n",
       "      <td>23.57</td>\n",
       "      <td>25.53</td>\n",
       "      <td>152.50</td>\n",
       "      <td>1709.0</td>\n",
       "      <td>0.1444</td>\n",
       "      <td>0.4245</td>\n",
       "      <td>0.4504</td>\n",
       "      <td>0.2430</td>\n",
       "      <td>0.3613</td>\n",
       "      <td>0.08758</td>\n",
       "    </tr>\n",
       "    <tr>\n",
       "      <th>3</th>\n",
       "      <td>11.42</td>\n",
       "      <td>20.38</td>\n",
       "      <td>77.58</td>\n",
       "      <td>386.1</td>\n",
       "      <td>0.14250</td>\n",
       "      <td>0.28390</td>\n",
       "      <td>0.2414</td>\n",
       "      <td>0.10520</td>\n",
       "      <td>0.2597</td>\n",
       "      <td>0.09744</td>\n",
       "      <td>...</td>\n",
       "      <td>14.91</td>\n",
       "      <td>26.50</td>\n",
       "      <td>98.87</td>\n",
       "      <td>567.7</td>\n",
       "      <td>0.2098</td>\n",
       "      <td>0.8663</td>\n",
       "      <td>0.6869</td>\n",
       "      <td>0.2575</td>\n",
       "      <td>0.6638</td>\n",
       "      <td>0.17300</td>\n",
       "    </tr>\n",
       "    <tr>\n",
       "      <th>4</th>\n",
       "      <td>20.29</td>\n",
       "      <td>14.34</td>\n",
       "      <td>135.10</td>\n",
       "      <td>1297.0</td>\n",
       "      <td>0.10030</td>\n",
       "      <td>0.13280</td>\n",
       "      <td>0.1980</td>\n",
       "      <td>0.10430</td>\n",
       "      <td>0.1809</td>\n",
       "      <td>0.05883</td>\n",
       "      <td>...</td>\n",
       "      <td>22.54</td>\n",
       "      <td>16.67</td>\n",
       "      <td>152.20</td>\n",
       "      <td>1575.0</td>\n",
       "      <td>0.1374</td>\n",
       "      <td>0.2050</td>\n",
       "      <td>0.4000</td>\n",
       "      <td>0.1625</td>\n",
       "      <td>0.2364</td>\n",
       "      <td>0.07678</td>\n",
       "    </tr>\n",
       "  </tbody>\n",
       "</table>\n",
       "<p>5 rows × 30 columns</p>\n",
       "</div>"
      ],
      "text/plain": [
       "   mean radius  mean texture  mean perimeter  mean area  mean smoothness  \\\n",
       "0        17.99         10.38          122.80     1001.0          0.11840   \n",
       "1        20.57         17.77          132.90     1326.0          0.08474   \n",
       "2        19.69         21.25          130.00     1203.0          0.10960   \n",
       "3        11.42         20.38           77.58      386.1          0.14250   \n",
       "4        20.29         14.34          135.10     1297.0          0.10030   \n",
       "\n",
       "   mean compactness  mean concavity  mean concave points  mean symmetry  \\\n",
       "0           0.27760          0.3001              0.14710         0.2419   \n",
       "1           0.07864          0.0869              0.07017         0.1812   \n",
       "2           0.15990          0.1974              0.12790         0.2069   \n",
       "3           0.28390          0.2414              0.10520         0.2597   \n",
       "4           0.13280          0.1980              0.10430         0.1809   \n",
       "\n",
       "   mean fractal dimension  ...  worst radius  worst texture  worst perimeter  \\\n",
       "0                 0.07871  ...         25.38          17.33           184.60   \n",
       "1                 0.05667  ...         24.99          23.41           158.80   \n",
       "2                 0.05999  ...         23.57          25.53           152.50   \n",
       "3                 0.09744  ...         14.91          26.50            98.87   \n",
       "4                 0.05883  ...         22.54          16.67           152.20   \n",
       "\n",
       "   worst area  worst smoothness  worst compactness  worst concavity  \\\n",
       "0      2019.0            0.1622             0.6656           0.7119   \n",
       "1      1956.0            0.1238             0.1866           0.2416   \n",
       "2      1709.0            0.1444             0.4245           0.4504   \n",
       "3       567.7            0.2098             0.8663           0.6869   \n",
       "4      1575.0            0.1374             0.2050           0.4000   \n",
       "\n",
       "   worst concave points  worst symmetry  worst fractal dimension  \n",
       "0                0.2654          0.4601                  0.11890  \n",
       "1                0.1860          0.2750                  0.08902  \n",
       "2                0.2430          0.3613                  0.08758  \n",
       "3                0.2575          0.6638                  0.17300  \n",
       "4                0.1625          0.2364                  0.07678  \n",
       "\n",
       "[5 rows x 30 columns]"
      ]
     },
     "execution_count": 75,
     "metadata": {},
     "output_type": "execute_result"
    }
   ],
   "source": [
    "X.head(5)"
   ]
  },
  {
   "cell_type": "markdown",
   "metadata": {},
   "source": [
    "All the data in our data set is numerical so there won't be a need to encode any categorical variables. Next, we have a look at the target value which should tell if the pacient has breast cancer or not and it's distribution."
   ]
  },
  {
   "cell_type": "code",
   "execution_count": 76,
   "metadata": {},
   "outputs": [
    {
     "name": "stdout",
     "output_type": "stream",
     "text": [
      "   target\n",
      "0       0\n",
      "1       0\n",
      "2       0\n",
      "3       0\n",
      "4       0\n"
     ]
    },
    {
     "data": {
      "text/plain": [
       "1    357\n",
       "0    212\n",
       "Name: target, dtype: int64"
      ]
     },
     "execution_count": 76,
     "metadata": {},
     "output_type": "execute_result"
    }
   ],
   "source": [
    "print(y.head(5))\n",
    "\n",
    "#distribution of values in the target column\n",
    "y['target'].value_counts()"
   ]
  },
  {
   "cell_type": "markdown",
   "metadata": {},
   "source": [
    "We see that the target already is encoded to 0's and 1's where 1 means the patient has cancer. We also see that there are more patients in the dataset with cancer than patients without cancer, yet the difference is not huge so our model won't have issues training properly for both cases. "
   ]
  },
  {
   "cell_type": "markdown",
   "metadata": {},
   "source": [
    "# Data Cleaning and Preprocessing"
   ]
  },
  {
   "cell_type": "markdown",
   "metadata": {},
   "source": [
    "In this section we will perform a list of steps to clean and transform our data to ensure that it's ready for model ingestion. First, we check if there are any null values in the data that should be addressed."
   ]
  },
  {
   "cell_type": "code",
   "execution_count": 82,
   "metadata": {},
   "outputs": [
    {
     "data": {
      "text/plain": [
       "False"
      ]
     },
     "execution_count": 82,
     "metadata": {},
     "output_type": "execute_result"
    }
   ],
   "source": [
    "#Check if there are any null values\n",
    "X.isnull().values.any()"
   ]
  },
  {
   "cell_type": "markdown",
   "metadata": {},
   "source": [
    "There are no null values that we have to address so we move to the next cleaning step, checking if there are any duplicate rows in the dataset and if so, removing them."
   ]
  },
  {
   "cell_type": "code",
   "execution_count": 83,
   "metadata": {},
   "outputs": [
    {
     "data": {
      "text/html": [
       "<div>\n",
       "<style scoped>\n",
       "    .dataframe tbody tr th:only-of-type {\n",
       "        vertical-align: middle;\n",
       "    }\n",
       "\n",
       "    .dataframe tbody tr th {\n",
       "        vertical-align: top;\n",
       "    }\n",
       "\n",
       "    .dataframe thead th {\n",
       "        text-align: right;\n",
       "    }\n",
       "</style>\n",
       "<table border=\"1\" class=\"dataframe\">\n",
       "  <thead>\n",
       "    <tr style=\"text-align: right;\">\n",
       "      <th></th>\n",
       "      <th>mean radius</th>\n",
       "      <th>mean texture</th>\n",
       "      <th>mean perimeter</th>\n",
       "      <th>mean area</th>\n",
       "      <th>mean smoothness</th>\n",
       "      <th>mean compactness</th>\n",
       "      <th>mean concavity</th>\n",
       "      <th>mean concave points</th>\n",
       "      <th>mean symmetry</th>\n",
       "      <th>mean fractal dimension</th>\n",
       "      <th>...</th>\n",
       "      <th>worst radius</th>\n",
       "      <th>worst texture</th>\n",
       "      <th>worst perimeter</th>\n",
       "      <th>worst area</th>\n",
       "      <th>worst smoothness</th>\n",
       "      <th>worst compactness</th>\n",
       "      <th>worst concavity</th>\n",
       "      <th>worst concave points</th>\n",
       "      <th>worst symmetry</th>\n",
       "      <th>worst fractal dimension</th>\n",
       "    </tr>\n",
       "  </thead>\n",
       "  <tbody>\n",
       "  </tbody>\n",
       "</table>\n",
       "<p>0 rows × 30 columns</p>\n",
       "</div>"
      ],
      "text/plain": [
       "Empty DataFrame\n",
       "Columns: [mean radius, mean texture, mean perimeter, mean area, mean smoothness, mean compactness, mean concavity, mean concave points, mean symmetry, mean fractal dimension, radius error, texture error, perimeter error, area error, smoothness error, compactness error, concavity error, concave points error, symmetry error, fractal dimension error, worst radius, worst texture, worst perimeter, worst area, worst smoothness, worst compactness, worst concavity, worst concave points, worst symmetry, worst fractal dimension]\n",
       "Index: []\n",
       "\n",
       "[0 rows x 30 columns]"
      ]
     },
     "execution_count": 83,
     "metadata": {},
     "output_type": "execute_result"
    }
   ],
   "source": [
    "dups = X[X.duplicated(subset=None, keep='first')]\n",
    "dups"
   ]
  },
  {
   "cell_type": "markdown",
   "metadata": {},
   "source": [
    "There are no duplicates in the data. As we can see, this dataset is already quite clean and ordered so we will move on to the next section.\n",
    "\n",
    "## Model Selection\n",
    "\n",
    "This is a binary classification problem as we are trying to predict is a patient has cancer or not. We will use a Decision Tree algorithm as it tends to be good model and it's widely used for predicting classification problems.\n",
    "\n",
    "The goal of using a Decision Tree is to create a training model that can use to predict the class or value of the target variable by learning simple decision rules inferred from prior data(training data). In Decision Trees, for predicting a class label for a record we start from the root of the tree. We compare the values of the root attribute with the record’s attribute. On the basis of comparison, we follow the branch corresponding to that value and jump to the next node.\n",
    "\n",
    "First we will split the data into a training dataset that will be used to train our model and a test dataset to evaluate the perfomance of the model and it's capacity to generalize to new unseen data."
   ]
  },
  {
   "cell_type": "code",
   "execution_count": 84,
   "metadata": {},
   "outputs": [],
   "source": [
    "from sklearn.tree import DecisionTreeClassifier\n",
    "from sklearn.model_selection import train_test_split\n",
    "\n",
    "X_train, X_test, y_train, y_test = train_test_split(X, y, random_state = 0)"
   ]
  },
  {
   "cell_type": "markdown",
   "metadata": {},
   "source": [
    "Next we will fit our decision tree model with the training data. We will 'prune'  the tree to only 4 levels of depth as we want to avoid our model overfitting, by just picking 4 levels our model should be able to generalize well to new data."
   ]
  },
  {
   "cell_type": "code",
   "execution_count": 85,
   "metadata": {},
   "outputs": [],
   "source": [
    "#Model fitting\n",
    "clf = DecisionTreeClassifier(max_depth = 4, min_samples_leaf = 8,\n",
    "                            random_state = 0).fit(X_train, y_train)"
   ]
  },
  {
   "cell_type": "markdown",
   "metadata": {},
   "source": [
    "Below we plot the fitted decision tree model."
   ]
  },
  {
   "cell_type": "code",
   "execution_count": 86,
   "metadata": {},
   "outputs": [
    {
     "data": {
      "image/png": "[encoded data removed]",
      "text/plain": [
       "<Figure size 1080x648 with 1 Axes>"
      ]
     },
     "metadata": {
      "needs_background": "light"
     },
     "output_type": "display_data"
    }
   ],
   "source": [
    "#plot size\n",
    "plt.figure(figsize=(15,9))\n",
    "\n",
    "#feature names\n",
    "fn = list(X.columns) \n",
    "\n",
    "#plot_decision_tree(clf, cancer.feature_names, cancer.target_names)\n",
    "sk.tree.plot_tree(clf,feature_names = fn, filled=True, max_depth=4)\n",
    "plt.show()"
   ]
  },
  {
   "cell_type": "markdown",
   "metadata": {},
   "source": [
    "The above graph show how the data is split into the 4 levels of depth in the decision tree. We can see that columns 'mean concave points','worst area', 'worst texture', 'area texture' and 'worst_smoothness' are being used as the main columns for splitting the data so we can suspect that these are important features. In order to confirm this and to investigate what other features are most influencial to the model we plot the decision tree's feature importances."
   ]
  },
  {
   "cell_type": "code",
   "execution_count": 87,
   "metadata": {},
   "outputs": [
    {
     "data": {
      "image/png": "[encoded data removed]",
      "text/plain": [
       "<Figure size 720x504 with 1 Axes>"
      ]
     },
     "metadata": {
      "needs_background": "light"
     },
     "output_type": "display_data"
    }
   ],
   "source": [
    "#plot size\n",
    "plt.figure(figsize=(10,7))\n",
    "\n",
    "#feature importances\n",
    "importances = clf.feature_importances_\n",
    "indices = np.argsort(importances)\n",
    "plt.title('Feature Importances')\n",
    "plt.barh(range(len(indices)), importances[indices], color='b', align='center')\n",
    "plt.yticks(range(len(indices)), [fn[i] for i in indices])\n",
    "plt.xlabel('Relative Importance')\n",
    "plt.show()"
   ]
  },
  {
   "cell_type": "markdown",
   "metadata": {},
   "source": [
    "Looking at the graph above we can confirm that 'mean concave points','worst area', 'worst texture', 'area texture' and 'worst_smoothness' are the most important variables for predicting breast cancer. 'Mean concave points' in particular is the main predictor for breat cancer, having around 80% influence on the prediction outcome.\n",
    "\n",
    "## Model Evaluation\n",
    "Now we will use different metrics to evaluate our model's performance against the training data and the test data. We will discuss and look at the main metrics to use for this particular problem.\n",
    "\n",
    "First we evaluate our model on the training data."
   ]
  },
  {
   "cell_type": "code",
   "execution_count": 26,
   "metadata": {},
   "outputs": [
    {
     "name": "stdout",
     "output_type": "stream",
     "text": [
      "Confusion Matrix: \n",
      "[[152   7]\n",
      " [  8 259]]\n",
      "Accuracy: 0.96\n",
      "Precision: 0.97\n",
      "Recall: 0.97\n",
      "F1: 0.97\n"
     ]
    }
   ],
   "source": [
    "from sklearn.metrics import accuracy_score, precision_score, recall_score, f1_score, confusion_matrix\n",
    "\n",
    "#predicting the target Y\n",
    "tree_predicted = clf.predict(X_train)\n",
    "\n",
    "#Confusion Matrix\n",
    "print('Confusion Matrix: ')\n",
    "print(confusion_matrix(y_train, tree_predicted))\n",
    "\n",
    "# Accuracy = TP + TN / (TP + TN + FP + FN)\n",
    "print('Accuracy: {:.2f}'.format(accuracy_score(y_train, tree_predicted)))\n",
    "\n",
    "# Precision = TP / (TP + FP)\n",
    "print('Precision: {:.2f}'.format(precision_score(y_train, tree_predicted)))\n",
    "# Recall = TP / (TP + FN)  Also known as sensitivity, or True Positive Rate\n",
    "print('Recall: {:.2f}'.format(recall_score(y_train, tree_predicted)))\n",
    "\n",
    "# F1 = 2 * Precision * Recall / (Precision + Recall) \n",
    "print('F1: {:.2f}'.format(f1_score(y_train, tree_predicted)))"
   ]
  },
  {
   "cell_type": "markdown",
   "metadata": {},
   "source": [
    "Our model predicts a high accuracy and F1 score in the training data, the confusion matrix also show low false negatives and false positives. Let's evaluate it now on the test data."
   ]
  },
  {
   "cell_type": "code",
   "execution_count": 27,
   "metadata": {},
   "outputs": [
    {
     "name": "stdout",
     "output_type": "stream",
     "text": [
      "Confusion Matrix: \n",
      "[[52  1]\n",
      " [ 8 82]]\n",
      "Accuracy: 0.94\n",
      "Precision: 0.99\n",
      "Recall: 0.91\n",
      "F1: 0.95\n"
     ]
    }
   ],
   "source": [
    "#predicting the target Y\n",
    "tree_predicted = clf.predict(X_test)\n",
    "\n",
    "#Confusion Matrix\n",
    "print('Confusion Matrix: ')\n",
    "print(confusion_matrix(y_test, tree_predicted))\n",
    "\n",
    "# Accuracy = TP + TN / (TP + TN + FP + FN)\n",
    "print('Accuracy: {:.2f}'.format(accuracy_score(y_test, tree_predicted)))\n",
    "\n",
    "# Precision = TP / (TP + FP)\n",
    "print('Precision: {:.2f}'.format(precision_score(y_test, tree_predicted)))\n",
    "# Recall = TP / (TP + FN)  Also known as sensitivity, or True Positive Rate\n",
    "print('Recall: {:.2f}'.format(recall_score(y_test, tree_predicted)))\n",
    "\n",
    "# F1 = 2 * Precision * Recall / (Precision + Recall) \n",
    "print('F1: {:.2f}'.format(f1_score(y_test, tree_predicted)))"
   ]
  },
  {
   "cell_type": "markdown",
   "metadata": {},
   "source": [
    "Even though the Accuracy, Recall and F1 score have slightly decreased the model is still showing great performance with all evaluation values above 90%, this means that our model is generalizing well to new data. The false negatives in the confusion matrix are slightly more significant in comparison to the total patients in the test data.\n",
    "\n",
    "Now we want to focus on the Recall score. Recall calculates how many of the Actual Positives our model capture through labeling it as Positive (True Positive). Therefore, Recall is a model metric that should be used when there is a high cost associated with having a false negative. In this case, a false negative could mean that the model missed the fact that the patient actually has cancer, putting his/her life at risk which is something that should be avoided at all cost, so we want the model's Recall to be as high as possible.\n",
    "\n",
    "Lets plot a Precision-Recall curve to see the relation between Precision and Recall, and determine if we can improve the Recall in the model."
   ]
  },
  {
   "cell_type": "code",
   "execution_count": 28,
   "metadata": {
    "scrolled": true
   },
   "outputs": [
    {
     "name": "stderr",
     "output_type": "stream",
     "text": [
      "<ipython-input-28-2f5299d2e387>:17: MatplotlibDeprecationWarning: Adding an axes using the same arguments as a previous axes currently reuses the earlier instance.  In a future version, a new instance will always be created and returned.  Meanwhile, this warning can be suppressed, and the future behavior ensured, by passing a unique label to each axes instance.\n",
      "  plt.axes().set_aspect('equal')\n"
     ]
    },
    {
     "data": {
      "image/png": "[encoded data removed]",
      "text/plain": [
       "<Figure size 504x360 with 1 Axes>"
      ]
     },
     "metadata": {
      "needs_background": "light"
     },
     "output_type": "display_data"
    }
   ],
   "source": [
    "from sklearn.metrics import precision_recall_curve\n",
    "\n",
    "#Calculating precision-recall curve\n",
    "precision, recall, thresholds = precision_recall_curve(y_test, tree_predicted)\n",
    "closest_zero = np.argmax(np.abs(thresholds))\n",
    "closest_zero_p = precision[closest_zero]\n",
    "closest_zero_r = recall[closest_zero]\n",
    "\n",
    "#plotting the curve\n",
    "plt.figure(figsize=(7,5))\n",
    "plt.xlim([0.0, 1.01])\n",
    "plt.ylim([0.0, 1.01])\n",
    "plt.plot(precision, recall, label='Precision-Recall Curve')\n",
    "plt.plot(closest_zero_p, closest_zero_r, 'o', markersize = 12, fillstyle = 'none', c='r', mew=3)\n",
    "plt.xlabel('Precision', fontsize=16)\n",
    "plt.ylabel('Recall', fontsize=16)\n",
    "plt.axes().set_aspect('equal')\n",
    "plt.show()"
   ]
  },
  {
   "cell_type": "markdown",
   "metadata": {},
   "source": [
    "In the Precision-Recall curve we can see in the red circle where the model is at the moment, having 0.99 Precision and a 0.91 Recall. But we can also see in the graph that we can improve the Recall at the cost of lowering the Precision. In order to accomplish this we first have a look at the Predict Probabilities characteristics of the model for each patient."
   ]
  },
  {
   "cell_type": "code",
   "execution_count": 29,
   "metadata": {},
   "outputs": [
    {
     "data": {
      "text/plain": [
       "[(0, 0.0),\n",
       " (1, 0.875),\n",
       " (1, 1.0),\n",
       " (1, 1.0),\n",
       " (1, 1.0),\n",
       " (1, 1.0),\n",
       " (1, 1.0),\n",
       " (1, 1.0),\n",
       " (1, 0.875),\n",
       " (1, 1.0),\n",
       " (1, 0.3333333333333333),\n",
       " (1, 1.0),\n",
       " (1, 1.0),\n",
       " (1, 0.25),\n",
       " (1, 0.3333333333333333),\n",
       " (0, 0.3333333333333333),\n",
       " (1, 1.0),\n",
       " (0, 0.0),\n",
       " (0, 0.0),\n",
       " (0, 0.0),\n",
       " (0, 0.0),\n",
       " (0, 0.0),\n",
       " (1, 1.0),\n",
       " (1, 1.0),\n",
       " (0, 0.0),\n",
       " (1, 1.0),\n",
       " (1, 1.0),\n",
       " (0, 0.375),\n",
       " (1, 1.0),\n",
       " (0, 0.0),\n",
       " (1, 1.0),\n",
       " (0, 0.0),\n",
       " (1, 1.0),\n",
       " (0, 0.0),\n",
       " (1, 1.0),\n",
       " (0, 0.0),\n",
       " (1, 1.0),\n",
       " (0, 0.0),\n",
       " (1, 1.0),\n",
       " (0, 0.0),\n",
       " (0, 0.625),\n",
       " (1, 1.0),\n",
       " (0, 0.25),\n",
       " (1, 1.0),\n",
       " (1, 1.0),\n",
       " (0, 0.0),\n",
       " (1, 1.0),\n",
       " (1, 0.875),\n",
       " (1, 1.0),\n",
       " (0, 0.0),\n",
       " (0, 0.0),\n",
       " (0, 0.375),\n",
       " (0, 0.0),\n",
       " (1, 1.0),\n",
       " (1, 1.0),\n",
       " (1, 1.0),\n",
       " (1, 0.875),\n",
       " (1, 0.875),\n",
       " (1, 0.875),\n",
       " (0, 0.0),\n",
       " (0, 0.0),\n",
       " (0, 0.0),\n",
       " (1, 1.0),\n",
       " (1, 1.0),\n",
       " (0, 0.0),\n",
       " (1, 0.625),\n",
       " (0, 0.0),\n",
       " (0, 0.0),\n",
       " (0, 0.0),\n",
       " (1, 0.875),\n",
       " (1, 1.0),\n",
       " (0, 0.0),\n",
       " (1, 1.0),\n",
       " (0, 0.375),\n",
       " (0, 0.0),\n",
       " (1, 0.875),\n",
       " (1, 1.0),\n",
       " (1, 0.375),\n",
       " (1, 1.0),\n",
       " (1, 1.0),\n",
       " (0, 0.0),\n",
       " (0, 0.0),\n",
       " (0, 0.0),\n",
       " (1, 1.0),\n",
       " (0, 0.0),\n",
       " (1, 1.0),\n",
       " (1, 1.0),\n",
       " (1, 1.0),\n",
       " (0, 0.0),\n",
       " (0, 0.0),\n",
       " (1, 1.0),\n",
       " (0, 0.25),\n",
       " (1, 0.875),\n",
       " (0, 0.0),\n",
       " (1, 0.875),\n",
       " (1, 1.0),\n",
       " (0, 0.0),\n",
       " (1, 1.0),\n",
       " (1, 1.0),\n",
       " (1, 1.0),\n",
       " (1, 1.0),\n",
       " (1, 1.0),\n",
       " (1, 1.0),\n",
       " (1, 0.875),\n",
       " (0, 0.0),\n",
       " (1, 1.0),\n",
       " (0, 0.0),\n",
       " (1, 0.375),\n",
       " (0, 0.25),\n",
       " (0, 0.0),\n",
       " (1, 1.0),\n",
       " (0, 0.0),\n",
       " (0, 0.0),\n",
       " (1, 0.0),\n",
       " (1, 1.0),\n",
       " (1, 0.875),\n",
       " (1, 1.0),\n",
       " (1, 1.0),\n",
       " (1, 0.875),\n",
       " (1, 1.0),\n",
       " (1, 1.0),\n",
       " (1, 1.0),\n",
       " (0, 0.375),\n",
       " (1, 1.0),\n",
       " (0, 0.0),\n",
       " (1, 0.0),\n",
       " (1, 0.625),\n",
       " (1, 1.0),\n",
       " (1, 1.0),\n",
       " (1, 1.0),\n",
       " (0, 0.0),\n",
       " (1, 1.0),\n",
       " (1, 1.0),\n",
       " (1, 0.375),\n",
       " (1, 1.0),\n",
       " (1, 1.0),\n",
       " (1, 0.875),\n",
       " (0, 0.25),\n",
       " (0, 0.0),\n",
       " (1, 1.0),\n",
       " (1, 1.0),\n",
       " (1, 1.0),\n",
       " (0, 0.0)]"
      ]
     },
     "execution_count": 29,
     "metadata": {},
     "output_type": "execute_result"
    }
   ],
   "source": [
    "y_proba_lr = clf.predict_proba(X_test)\n",
    "y_proba_list = list(zip(y_test['target'].values, y_proba_lr[:,1]))\n",
    "y_proba_list"
   ]
  },
  {
   "cell_type": "markdown",
   "metadata": {},
   "source": [
    "Here, we can see that in some cases the model is predicting 0 even when it has 33% and higher confidence levels that it might actually be cancer. Since we want the model to be highly conservative to improve its Recall, we will set its Decision Threshold to 0.25, so that if the model has a higher confidence than this value it will predict a positive."
   ]
  },
  {
   "cell_type": "code",
   "execution_count": 30,
   "metadata": {},
   "outputs": [
    {
     "name": "stdout",
     "output_type": "stream",
     "text": [
      "Confusion Matrix: \n",
      "[[47  6]\n",
      " [ 3 87]]\n",
      "Accuracy: 0.94\n",
      "Precision: 0.94\n",
      "Recall: 0.97\n",
      "F1: 0.95\n"
     ]
    }
   ],
   "source": [
    "#setting new decision threshold\n",
    "THRESHOLD = 0.25\n",
    "preds = np.where(clf.predict_proba(X_test)[:,1] > THRESHOLD, 1, 0)\n",
    "\n",
    "#Confusion Matrix\n",
    "print('Confusion Matrix: ')\n",
    "print(confusion_matrix(y_test, preds))\n",
    "\n",
    "# Accuracy = TP + TN / (TP + TN + FP + FN)\n",
    "print('Accuracy: {:.2f}'.format(accuracy_score(y_test, preds)))\n",
    "\n",
    "# Precision = TP / (TP + FP)\n",
    "print('Precision: {:.2f}'.format(precision_score(y_test, preds)))\n",
    "# Recall = TP / (TP + FN)  Also known as sensitivity, or True Positive Rate\n",
    "print('Recall: {:.2f}'.format(recall_score(y_test, preds)))\n",
    "\n",
    "# F1 = 2 * Precision * Recall / (Precision + Recall) \n",
    "print('F1: {:.2f}'.format(f1_score(y_test, preds)))"
   ]
  },
  {
   "cell_type": "markdown",
   "metadata": {},
   "source": [
    "## Conclusion\n",
    "\n",
    "After adjusting the decision threshold we can see that the Recall has improved from 0.91 to 0.97 which is a great result for our particular problem. Now, as seen in the Confusion Matrix, the model only predicts 3 false negatives. The Accuracy, Precision and F1 have slightly decreased but they are still higher than 90% so we accept this tradeoff in order to keep model with high Recall score."
   ]
  }
 ],
 "metadata": {
  "kernelspec": {
   "display_name": "Python 3",
   "language": "python",
   "name": "python3"
  },
  "language_info": {
   "codemirror_mode": {
    "name": "ipython",
    "version": 3
   },
   "file_extension": ".py",
   "mimetype": "text/x-python",
   "name": "python",
   "nbconvert_exporter": "python",
   "pygments_lexer": "ipython3",
   "version": "3.8.3"
  }
 },
 "nbformat": 4,
 "nbformat_minor": 4
}
