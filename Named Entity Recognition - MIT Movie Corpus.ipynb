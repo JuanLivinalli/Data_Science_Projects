{
 "cells": [
  {
   "cell_type": "markdown",
   "metadata": {},
   "source": [
    "# KPMG Skill Assesment - Juan Livinalli\n",
    "## Named Entity Recognition on the MIT Movie Corpus\n",
    "In this notebook I will develop the code to train a model to be able to perform NER on the MIT Movie Corpus and on new sentences. For this NLP task I will use the neural network library Keras to design and train a neural network to perform NER."
   ]
  },
  {
   "cell_type": "code",
   "execution_count": 82,
   "metadata": {},
   "outputs": [],
   "source": [
    "import numpy as np\n",
    "from keras.models import Model\n",
    "from keras.layers import Dense, Input, Dropout, LSTM\n",
    "from tensorflow.keras.preprocessing.text import one_hot, Tokenizer\n",
    "from tensorflow.keras.preprocessing.sequence import pad_sequences\n",
    "from keras.layers.embeddings import Embedding\n",
    "from keras.preprocessing import sequence\n",
    "from keras.utils import to_categorical\n",
    "from tensorflow.keras.layers import TimeDistributed, Bidirectional\n",
    "import matplotlib.pyplot as plt\n",
    "from keras.utils.vis_utils import plot_model"
   ]
  },
  {
   "cell_type": "markdown",
   "metadata": {},
   "source": [
    "## Loading the Data\n",
    "First, I download the engtest test and engtrain dataset from the MIT Movie Corpus and save them in the 'data' folder."
   ]
  },
  {
   "cell_type": "code",
   "execution_count": 83,
   "metadata": {
    "scrolled": true
   },
   "outputs": [
    {
     "name": "stderr",
     "output_type": "stream",
     "text": [
      "  % Total    % Received % Xferd  Average Speed   Time    Time     Time  Current\n",
      "                                 Dload  Upload   Total   Spent    Left  Speed\n",
      "\n",
      "  0     0    0     0    0     0      0      0 --:--:-- --:--:-- --:--:--     0\n",
      "  0     0    0     0    0     0      0      0 --:--:-- --:--:-- --:--:--     0\n",
      "  0     0    0     0    0     0      0      0 --:--:--  0:00:01 --:--:--     0\n",
      "  0     0    0     0    0     0      0      0 --:--:--  0:00:02 --:--:--     0\n",
      " 77  246k   77  192k    0     0  61982      0  0:00:04  0:00:03  0:00:01 61962\n",
      "100  246k  100  246k    0     0  79595      0  0:00:03  0:00:03 --:--:-- 79570\n",
      "  % Total    % Received % Xferd  Average Speed   Time    Time     Time  Current\n",
      "                                 Dload  Upload   Total   Spent    Left  Speed\n",
      "\n",
      "  0     0    0     0    0     0      0      0 --:--:-- --:--:-- --:--:--     0\n",
      "  0     0    0     0    0     0      0      0 --:--:--  0:00:01 --:--:--     0\n",
      "  0  989k    0     0    0     0      0      0 --:--:--  0:00:02 --:--:--     0\n",
      " 22  989k   22  224k    0     0  79313      0  0:00:12  0:00:02  0:00:10 79313\n",
      " 54  989k   54  544k    0     0   120k      0  0:00:08  0:00:04  0:00:04  120k\n",
      " 54  989k   54  544k    0     0   106k      0  0:00:09  0:00:05  0:00:04  106k\n",
      " 92  989k   92  912k    0     0   154k      0  0:00:06  0:00:05  0:00:01  204k\n",
      "100  989k  100  989k    0     0   164k      0  0:00:06  0:00:06 --:--:--  252k\n"
     ]
    }
   ],
   "source": [
    "!curl https://groups.csail.mit.edu/sls/downloads/movie/engtest.bio -o data/test.txt\n",
    "!curl https://groups.csail.mit.edu/sls/downloads/movie/engtrain.bio -o data/train.txt"
   ]
  },
  {
   "cell_type": "markdown",
   "metadata": {},
   "source": [
    "Next, I will define a function to transform the BIO format into a list of sentences and a list of tags. I will the use this function to create the X predictor variables and the Y tags to be predicted."
   ]
  },
  {
   "cell_type": "code",
   "execution_count": 84,
   "metadata": {},
   "outputs": [],
   "source": [
    "def load_data(file):\n",
    "    file = open(file, 'r')\n",
    "    data_x, data_y = [], []\n",
    "    sentence, labels = [], []\n",
    "    for i in file:\n",
    "        line = i.strip(\"\\n\").split(\"\\t\")\n",
    "       \n",
    "        #len > 1 are words\n",
    "        if len(line) > 1:\n",
    "            sentence.append(line[1])\n",
    "            labels.append(line[0][2:]) if len(line[0]) > 1 else labels.append(line[0])\n",
    "       \n",
    "        #len == 1 are sentence breaks\n",
    "        if len(line) == 1:\n",
    "            data_x.append(' '.join(sentence))\n",
    "            data_y.append(labels)\n",
    "            sentence, labels = [], []\n",
    "    return data_x, data_y\n",
    "\n",
    "train_x, train_y = load_data(\"data/train.txt\")\n",
    "test_x, test_y = load_data(\"data/test.txt\")"
   ]
  },
  {
   "cell_type": "markdown",
   "metadata": {},
   "source": [
    "## Exploratory Data Analysis\n",
    "Now, lets a look at the data in x and y:"
   ]
  },
  {
   "cell_type": "code",
   "execution_count": 85,
   "metadata": {},
   "outputs": [
    {
     "data": {
      "text/plain": [
       "['what movies star bruce willis',\n",
       " 'show me films with drew barrymore from the 1980s',\n",
       " 'what movies starred both al pacino and robert deniro',\n",
       " 'find me all of the movies that starred harold ramis and bill murray',\n",
       " 'find me a movie with a quote about baseball in it',\n",
       " 'what movies have mississippi in the title',\n",
       " 'show me science fiction films directed by steven spielberg',\n",
       " 'do you have any thrillers directed by sofia coppola',\n",
       " 'what leonard cohen songs have been used in a movie',\n",
       " 'show me films elvis films set in hawaii']"
      ]
     },
     "execution_count": 85,
     "metadata": {},
     "output_type": "execute_result"
    }
   ],
   "source": [
    "train_x[:10]"
   ]
  },
  {
   "cell_type": "code",
   "execution_count": 86,
   "metadata": {},
   "outputs": [
    {
     "data": {
      "text/plain": [
       "[['O', 'O', 'O', 'ACTOR', 'ACTOR'],\n",
       " ['O', 'O', 'O', 'O', 'ACTOR', 'ACTOR', 'O', 'O', 'YEAR'],\n",
       " ['O', 'O', 'O', 'O', 'ACTOR', 'ACTOR', 'O', 'ACTOR', 'ACTOR'],\n",
       " ['O',\n",
       "  'O',\n",
       "  'O',\n",
       "  'O',\n",
       "  'O',\n",
       "  'O',\n",
       "  'O',\n",
       "  'O',\n",
       "  'ACTOR',\n",
       "  'ACTOR',\n",
       "  'O',\n",
       "  'ACTOR',\n",
       "  'ACTOR'],\n",
       " ['O', 'O', 'O', 'O', 'O', 'O', 'O', 'O', 'O', 'O', 'O'],\n",
       " ['O', 'O', 'O', 'TITLE', 'O', 'O', 'O'],\n",
       " ['O', 'O', 'GENRE', 'GENRE', 'GENRE', 'O', 'O', 'DIRECTOR', 'DIRECTOR'],\n",
       " ['O', 'O', 'O', 'O', 'GENRE', 'O', 'O', 'DIRECTOR', 'DIRECTOR'],\n",
       " ['O', 'SONG', 'SONG', 'SONG', 'O', 'O', 'O', 'O', 'O', 'O'],\n",
       " ['O', 'O', 'O', 'ACTOR', 'O', 'PLOT', 'PLOT', 'PLOT']]"
      ]
     },
     "execution_count": 86,
     "metadata": {},
     "output_type": "execute_result"
    }
   ],
   "source": [
    "train_y[:10]"
   ]
  },
  {
   "cell_type": "markdown",
   "metadata": {},
   "source": [
    "Lets see how many sentences we have in the train and test data. I also want to see what's the longest sentence."
   ]
  },
  {
   "cell_type": "code",
   "execution_count": 87,
   "metadata": {},
   "outputs": [
    {
     "name": "stdout",
     "output_type": "stream",
     "text": [
      "train data\n",
      "total amount of sentences: 9775\n",
      "Maximum sentence length: 258\n",
      "test data\n",
      "total amount of sentences: 2443\n",
      "Maximum sentence length: 175\n"
     ]
    }
   ],
   "source": [
    "def sentence_feat(data_x):\n",
    "    #total amount of sentences in the dataset\n",
    "    total_sent = len(data_x)\n",
    "    print('total amount of sentences:',total_sent)\n",
    "\n",
    "    #longest sentence length in the dataset\n",
    "    maxlen = max([len(s) for s in data_x])\n",
    "    print ('Maximum sentence length:', maxlen)\n",
    "\n",
    "print('train data')\n",
    "sentence_feat(train_x)\n",
    "print('test data')\n",
    "sentence_feat(test_x)"
   ]
  },
  {
   "cell_type": "markdown",
   "metadata": {},
   "source": [
    "The maximum sentence is quite long, I will plot a histogram of the sentences lenght to see what is the sentence size for the majority of the data."
   ]
  },
  {
   "cell_type": "code",
   "execution_count": 88,
   "metadata": {},
   "outputs": [
    {
     "data": {
      "image/png": "[encoded data removed]",
      "text/plain": [
       "<Figure size 1008x504 with 1 Axes>"
      ]
     },
     "metadata": {
      "needs_background": "light"
     },
     "output_type": "display_data"
    }
   ],
   "source": [
    "def sentence_hist(data_x):\n",
    "    plt.figure(figsize=(14,7))\n",
    "    plt.hist([len(s) for s in data_x],bins = 50)\n",
    "    plt.xlabel(\"Length of Sentences\")\n",
    "    plt.show()\n",
    "    \n",
    "sentence_hist(train_x)"
   ]
  },
  {
   "cell_type": "markdown",
   "metadata": {},
   "source": [
    "The plot shows that the average lenght of a sentence in the data is near 50 words. \n",
    "## Data Preprocessing\n",
    "In order to prepare the data so that it can be used by the model, I will perform the following tranformation:\n",
    "\n",
    "Tokenize the data: The model doesn't not understand words, therefore the input data needs to be transformed through a process called tokenization where a number will be assigned to each distinct word. Here I've place the limit to tokenize up to 10000 words and I've also allocated one number for all words not in the vocabulary OOV.\n",
    "\n",
    "Pad the data: for our recurrent neural network to work we need all inputs to have the same dimensions, therefore we will make all sentence size equal by padding small sentences and truncating big sentences. I've chosen 50 as the number of words for all input sentences since, as seen in the histogram, the majority of sentences in the data have around 50 words.\n",
    "\n",
    "Perform word embeddings: I will use Keras embedding layer to embed the one-hot encoded words in the input into embedded words. By performing word embeddings I can reduce the dimensionality of my input from 10000 vectors to 100 vectors in an embedded matrix which is very helpful at reducing the complexity of our model since it will not need as many parametes if the input uses 100 vectors per word. Also, by training this layer, the embedding will find relationships between words in the vocab which can be very helpful for training the model."
   ]
  },
  {
   "cell_type": "code",
   "execution_count": 89,
   "metadata": {},
   "outputs": [],
   "source": [
    "MAX_WORDS = 10000  #total words being tokenized\n",
    "MAX_LEN = 50       #total length of sentence\n",
    "\n",
    "#fit tokenizer\n",
    "tokenizer = Tokenizer (num_words=MAX_WORDS, oov_token='<OOV>')\n",
    "tokenizer.fit_on_texts(train_x)\n",
    "word_index = tokenizer.word_index\n",
    "\n",
    "#tokenize & pad train data\n",
    "train_x_idx = tokenizer.texts_to_sequences(train_x)\n",
    "train_x_idx = pad_sequences(train_x_idx, maxlen=MAX_LEN, padding='post')\n",
    "\n",
    "#tokenize & pad test data\n",
    "test_x_idx = tokenizer.texts_to_sequences(test_x)\n",
    "test_x_idx = pad_sequences(test_x_idx, maxlen=MAX_LEN, padding='post')"
   ]
  },
  {
   "cell_type": "markdown",
   "metadata": {},
   "source": [
    "Having a look at the word index created by the tokenization of the data:"
   ]
  },
  {
   "cell_type": "code",
   "execution_count": 90,
   "metadata": {},
   "outputs": [
    {
     "data": {
      "text/plain": [
       "{'<OOV>': 1,\n",
       " 'the': 2,\n",
       " 'a': 3,\n",
       " 'movie': 4,\n",
       " 'what': 5,\n",
       " 'in': 6,\n",
       " 'is': 7,\n",
       " 'movies': 8,\n",
       " 'that': 9,\n",
       " 'was': 10,\n",
       " 'rated': 11,\n",
       " 'of': 12,\n",
       " 'with': 13,\n",
       " 'film': 14,\n",
       " 'about': 15,\n",
       " 'directed': 16,\n",
       " 'there': 17,\n",
       " 'me': 18,\n",
       " 'by': 19,\n",
       " 'from': 20,\n",
       " 'find': 21,\n",
       " 'list': 22,\n",
       " 'pg': 23,\n",
       " 'and': 24,\n",
       " 'did': 25,\n",
       " 'are': 26,\n",
       " 'starring': 27,\n",
       " 's': 28,\n",
       " 'any': 29,\n",
       " 'an': 30,\n",
       " 'r': 31,\n",
       " 'for': 32,\n",
       " 'who': 33,\n",
       " 'show': 34,\n",
       " 'last': 35,\n",
       " 'has': 36,\n",
       " '13': 37,\n",
       " 'good': 38,\n",
       " 'films': 39,\n",
       " 'name': 40,\n",
       " 'rating': 41,\n",
       " 'stars': 42,\n",
       " 'i': 43,\n",
       " 'past': 44,\n",
       " 'you': 45,\n",
       " 'to': 46,\n",
       " 'out': 47,\n",
       " 'year': 48,\n",
       " 'years': 49,\n",
       " 'released': 50,\n",
       " 'which': 51,\n",
       " 'have': 52,\n",
       " 'decades': 53,\n",
       " 'comedy': 54,\n",
       " 'star': 55,\n",
       " 'made': 56,\n",
       " 'some': 57,\n",
       " 'all': 58,\n",
       " 'action': 59,\n",
       " 'direct': 60,\n",
       " 'on': 61,\n",
       " 'looking': 62,\n",
       " 'starred': 63,\n",
       " 'horror': 64,\n",
       " 'g': 65,\n",
       " 'were': 66,\n",
       " 'do': 67,\n",
       " 'average': 68,\n",
       " 'where': 69,\n",
       " 'received': 70,\n",
       " 'many': 71,\n",
       " 'fantasy': 72,\n",
       " 'ever': 73,\n",
       " 'drama': 74,\n",
       " 'seven': 75,\n",
       " 'it': 76,\n",
       " 'how': 77,\n",
       " 'ratings': 78,\n",
       " 'came': 79,\n",
       " 'see': 80,\n",
       " 'can': 81,\n",
       " '2010': 82,\n",
       " 'been': 83,\n",
       " 'war': 84,\n",
       " 'like': 85,\n",
       " 'western': 86,\n",
       " 'nine': 87,\n",
       " 'eight': 88,\n",
       " 'six': 89,\n",
       " '1990': 90,\n",
       " '1960': 91,\n",
       " 'song': 92,\n",
       " 'four': 93,\n",
       " '1980': 94,\n",
       " 'actor': 95,\n",
       " 'science': 96,\n",
       " 'fiction': 97,\n",
       " '1970': 98,\n",
       " '1950': 99,\n",
       " 'plot': 100,\n",
       " '2000': 101,\n",
       " 'five': 102,\n",
       " 'john': 103,\n",
       " 'thriller': 104,\n",
       " 'director': 105,\n",
       " '17': 106,\n",
       " 'nc': 107,\n",
       " 'documentary': 108,\n",
       " 'adventure': 109,\n",
       " 'had': 110,\n",
       " 'unrated': 111,\n",
       " 'highly': 112,\n",
       " 'best': 113,\n",
       " 'im': 114,\n",
       " 'liked': 115,\n",
       " 'title': 116,\n",
       " 'james': 117,\n",
       " 'romantic': 118,\n",
       " 'two': 119,\n",
       " 'come': 120,\n",
       " 'as': 121,\n",
       " 'mockumentary': 122,\n",
       " '1940': 123,\n",
       " 'really': 124,\n",
       " 'want': 125,\n",
       " 'well': 126,\n",
       " 'mystery': 127,\n",
       " 'popular': 128,\n",
       " 'crime': 129,\n",
       " 'sci': 130,\n",
       " 'fi': 131,\n",
       " 'whats': 132,\n",
       " 'romance': 133,\n",
       " 'musical': 134,\n",
       " 'this': 135,\n",
       " 'decade': 136,\n",
       " 'michael': 137,\n",
       " 'biography': 138,\n",
       " 'very': 139,\n",
       " 'ten': 140,\n",
       " 'noir': 141,\n",
       " 'three': 142,\n",
       " 'first': 143,\n",
       " 'character': 144,\n",
       " 'played': 145,\n",
       " 'family': 146,\n",
       " 'when': 147,\n",
       " 'would': 148,\n",
       " 'please': 149,\n",
       " 'within': 150,\n",
       " 'must': 151,\n",
       " 'trailer': 152,\n",
       " 'tell': 153,\n",
       " 'animated': 154,\n",
       " 'robert': 155,\n",
       " '1990s': 156,\n",
       " 'david': 157,\n",
       " 'called': 158,\n",
       " 'play': 159,\n",
       " 'got': 160,\n",
       " 'based': 161,\n",
       " 'genre': 162,\n",
       " 'be': 163,\n",
       " 'am': 164,\n",
       " '1980s': 165,\n",
       " 'tom': 166,\n",
       " 'inception': 167,\n",
       " 'up': 168,\n",
       " 'will': 169,\n",
       " 'animation': 170,\n",
       " 'ok': 171,\n",
       " 'id': 172,\n",
       " 'love': 173,\n",
       " 'does': 174,\n",
       " 'featuring': 175,\n",
       " 'e': 176,\n",
       " 'soundtrack': 177,\n",
       " 'comedies': 178,\n",
       " 'george': 179,\n",
       " 'most': 180,\n",
       " 'people': 181,\n",
       " 'know': 182,\n",
       " 'at': 183,\n",
       " 'shining': 184,\n",
       " 'wall': 185,\n",
       " 'history': 186,\n",
       " 'my': 187,\n",
       " 'could': 188,\n",
       " 'role': 189,\n",
       " 'them': 190,\n",
       " 'critically': 191,\n",
       " 'excellent': 192,\n",
       " 'mediocre': 193,\n",
       " 'military': 194,\n",
       " 'lee': 195,\n",
       " 'acclaimed': 196,\n",
       " 'give': 197,\n",
       " 'recommended': 198,\n",
       " 'above': 199,\n",
       " 'quote': 200,\n",
       " 'watch': 201,\n",
       " 'jack': 202,\n",
       " 'martin': 203,\n",
       " 'get': 204,\n",
       " 'ford': 205,\n",
       " 'thumbs': 206,\n",
       " 'jason': 207,\n",
       " 'make': 208,\n",
       " 'steven': 209,\n",
       " 'clint': 210,\n",
       " 'scary': 211,\n",
       " 'reviews': 212,\n",
       " 'flick': 213,\n",
       " 'short': 214,\n",
       " 'decent': 215,\n",
       " 'lot': 216,\n",
       " 'disney': 217,\n",
       " 'right': 218,\n",
       " 'eastwood': 219,\n",
       " 'featured': 220,\n",
       " 'around': 221,\n",
       " 'new': 222,\n",
       " 'day': 223,\n",
       " 'kevin': 224,\n",
       " 'features': 225,\n",
       " 'top': 226,\n",
       " 'johnny': 227,\n",
       " 'one': 228,\n",
       " 'brad': 229,\n",
       " 'peter': 230,\n",
       " 'cameron': 231,\n",
       " 'or': 232,\n",
       " 'smith': 233,\n",
       " 'christopher': 234,\n",
       " 'children': 235,\n",
       " 'paul': 236,\n",
       " 'considered': 237,\n",
       " 'man': 238,\n",
       " 'steve': 239,\n",
       " 'jones': 240,\n",
       " 'spaghetti': 241,\n",
       " 'world': 242,\n",
       " 'coming': 243,\n",
       " 'depp': 244,\n",
       " 'mel': 245,\n",
       " 'set': 246,\n",
       " 'billy': 247,\n",
       " 'time': 248,\n",
       " 'scott': 249,\n",
       " 'historical': 250,\n",
       " 'lead': 251,\n",
       " 'tim': 252,\n",
       " 'dead': 253,\n",
       " 'watchable': 254,\n",
       " '1970s': 255,\n",
       " 'run': 256,\n",
       " 'bruce': 257,\n",
       " 'bond': 258,\n",
       " 'dramas': 259,\n",
       " 'harry': 260,\n",
       " 'main': 261,\n",
       " 'frank': 262,\n",
       " 'done': 263,\n",
       " 'voice': 264,\n",
       " 'titles': 265,\n",
       " 'centers': 266,\n",
       " 'sport': 267,\n",
       " '2000s': 268,\n",
       " '2011': 269,\n",
       " 'sean': 270,\n",
       " 'ryan': 271,\n",
       " 'during': 272,\n",
       " 'spielberg': 273,\n",
       " 'involving': 274,\n",
       " 'named': 275,\n",
       " '90s': 276,\n",
       " 'viewers': 277,\n",
       " 'bill': 278,\n",
       " 'pitt': 279,\n",
       " 'williams': 280,\n",
       " 'allen': 281,\n",
       " 'funny': 282,\n",
       " 'disaster': 283,\n",
       " 'wars': 284,\n",
       " 'jackson': 285,\n",
       " 'theme': 286,\n",
       " 'mpaa': 287,\n",
       " '2': 288,\n",
       " 'jim': 289,\n",
       " 'staring': 290,\n",
       " 'back': 291,\n",
       " 'potter': 292,\n",
       " 'recent': 293,\n",
       " 'highest': 294,\n",
       " 'hanks': 295,\n",
       " 'story': 296,\n",
       " 'plays': 297,\n",
       " 'dark': 298,\n",
       " 'matthew': 299,\n",
       " 'independent': 300,\n",
       " 'information': 301,\n",
       " '1960s': 302,\n",
       " 'kate': 303,\n",
       " 'space': 304,\n",
       " 'recommend': 305,\n",
       " 'avant': 306,\n",
       " 'garde': 307,\n",
       " 'teen': 308,\n",
       " 'act': 309,\n",
       " 'death': 310,\n",
       " 'night': 311,\n",
       " 'oscar': 312,\n",
       " 'anthony': 313,\n",
       " 'roberts': 314,\n",
       " 'police': 315,\n",
       " 'howard': 316,\n",
       " 'psychological': 317,\n",
       " 'house': 318,\n",
       " 'its': 319,\n",
       " 'biographical': 320,\n",
       " 'lucas': 321,\n",
       " 'leonardo': 322,\n",
       " 'think': 323,\n",
       " 'robin': 324,\n",
       " 'de': 325,\n",
       " 'richard': 326,\n",
       " 'coppola': 327,\n",
       " 'filmed': 328,\n",
       " 'musicals': 329,\n",
       " 'hitchcock': 330,\n",
       " 'life': 331,\n",
       " 'kids': 332,\n",
       " 'julia': 333,\n",
       " 'black': 334,\n",
       " 'alien': 335,\n",
       " 'go': 336,\n",
       " 'king': 337,\n",
       " 'murder': 338,\n",
       " 'review': 339,\n",
       " 'more': 340,\n",
       " 'burton': 341,\n",
       " 'stewart': 342,\n",
       " 'actors': 343,\n",
       " 'danny': 344,\n",
       " 'ron': 345,\n",
       " 'chase': 346,\n",
       " 'alfred': 347,\n",
       " 'cruise': 348,\n",
       " 'his': 349,\n",
       " 'least': 350,\n",
       " 'hepburn': 351,\n",
       " 'child': 352,\n",
       " 'given': 353,\n",
       " 'willis': 354,\n",
       " 'picture': 355,\n",
       " 'just': 356,\n",
       " 'dicaprio': 357,\n",
       " 'famous': 358,\n",
       " 'woody': 359,\n",
       " 'gene': 360,\n",
       " 'adam': 361,\n",
       " 'being': 362,\n",
       " 'titled': 363,\n",
       " 'centered': 364,\n",
       " 'al': 365,\n",
       " 'patrick': 366,\n",
       " 'little': 367,\n",
       " 'christian': 368,\n",
       " 'jennifer': 369,\n",
       " 'not': 370,\n",
       " 'rob': 371,\n",
       " 'critics': 372,\n",
       " 'high': 373,\n",
       " 'won': 374,\n",
       " 'pretty': 375,\n",
       " 'over': 376,\n",
       " 'city': 377,\n",
       " 'preview': 378,\n",
       " 'evil': 379,\n",
       " 'american': 380,\n",
       " 'thats': 381,\n",
       " 'bergman': 382,\n",
       " 'stanley': 383,\n",
       " 'girl': 384,\n",
       " 'help': 385,\n",
       " 'brian': 386,\n",
       " 'melodrama': 387,\n",
       " 'wayne': 388,\n",
       " 'winning': 389,\n",
       " 'grant': 390,\n",
       " 'release': 391,\n",
       " 'sports': 392,\n",
       " 'he': 393,\n",
       " '3': 394,\n",
       " 'harrison': 395,\n",
       " 'carrey': 396,\n",
       " 'william': 397,\n",
       " 'woman': 398,\n",
       " 'daniel': 399,\n",
       " 'orson': 400,\n",
       " 'welles': 401,\n",
       " 'gangster': 402,\n",
       " 'charles': 403,\n",
       " 'jr': 404,\n",
       " 'mark': 405,\n",
       " 'thrillers': 406,\n",
       " 'westerns': 407,\n",
       " 'titanic': 408,\n",
       " 'anderson': 409,\n",
       " 'move': 410,\n",
       " 'kubrick': 411,\n",
       " 'pirates': 412,\n",
       " 'sandler': 413,\n",
       " 'joe': 414,\n",
       " 'chris': 415,\n",
       " 'also': 416,\n",
       " 'killer': 417,\n",
       " 'bob': 418,\n",
       " 'produced': 419,\n",
       " 'brooks': 420,\n",
       " 'leigh': 421,\n",
       " 'charlie': 422,\n",
       " 'latest': 423,\n",
       " 'clooney': 424,\n",
       " 'need': 425,\n",
       " 'ridley': 426,\n",
       " 'appear': 427,\n",
       " 'shrek': 428,\n",
       " 'wilder': 429,\n",
       " 'sandra': 430,\n",
       " 'travolta': 431,\n",
       " 'place': 432,\n",
       " 'gibson': 433,\n",
       " 'moore': 434,\n",
       " 'brothers': 435,\n",
       " 'car': 436,\n",
       " 'indiana': 437,\n",
       " '2012': 438,\n",
       " 'line': 439,\n",
       " 'before': 440,\n",
       " 'receive': 441,\n",
       " 'gary': 442,\n",
       " 'bay': 443,\n",
       " 'suspense': 444,\n",
       " 'actress': 445,\n",
       " 'but': 446,\n",
       " 'games': 447,\n",
       " 'feature': 448,\n",
       " 'stone': 449,\n",
       " 'said': 450,\n",
       " 'future': 451,\n",
       " 'j': 452,\n",
       " 'ingmar': 453,\n",
       " 'seen': 454,\n",
       " 'involved': 455,\n",
       " 'songs': 456,\n",
       " 'angelina': 457,\n",
       " 'matt': 458,\n",
       " 'your': 459,\n",
       " 'lewis': 460,\n",
       " 'music': 461,\n",
       " 'series': 462,\n",
       " 'characters': 463,\n",
       " 'edward': 464,\n",
       " 'vampire': 465,\n",
       " 'taylor': 466,\n",
       " 'davis': 467,\n",
       " 'classic': 468,\n",
       " 'book': 469,\n",
       " 'francis': 470,\n",
       " 'chaplin': 471,\n",
       " 'someone': 472,\n",
       " 'capra': 473,\n",
       " 'available': 474,\n",
       " 'pacino': 475,\n",
       " 'tale': 476,\n",
       " 'cary': 477,\n",
       " 'other': 478,\n",
       " 'great': 479,\n",
       " 'school': 480,\n",
       " 'spike': 481,\n",
       " 'take': 482,\n",
       " 'hunger': 483,\n",
       " 'christmas': 484,\n",
       " 'mr': 485,\n",
       " 'oliver': 486,\n",
       " 'white': 487,\n",
       " 'type': 488,\n",
       " 'connery': 489,\n",
       " 'cast': 490,\n",
       " 'fonda': 491,\n",
       " 'search': 492,\n",
       " 'violence': 493,\n",
       " 'if': 494,\n",
       " 'might': 495,\n",
       " 'used': 496,\n",
       " 'political': 497,\n",
       " 'jolie': 498,\n",
       " 'talking': 499,\n",
       " '2001': 500,\n",
       " 'known': 501,\n",
       " 'murphy': 502,\n",
       " 'trying': 503,\n",
       " 'army': 504,\n",
       " 'kid': 505,\n",
       " 'robot': 506,\n",
       " 'true': 507,\n",
       " 'acted': 508,\n",
       " 'alan': 509,\n",
       " 'redemption': 510,\n",
       " 'friends': 511,\n",
       " 'lean': 512,\n",
       " 'tracy': 513,\n",
       " 'l': 514,\n",
       " 'childrens': 515,\n",
       " 'rock': 516,\n",
       " 'wes': 517,\n",
       " 'ben': 518,\n",
       " 'godfather': 519,\n",
       " 'marshall': 520,\n",
       " 'ice': 521,\n",
       " 'julie': 522,\n",
       " 'award': 523,\n",
       " 'reeves': 524,\n",
       " 'elizabeth': 525,\n",
       " 'newest': 526,\n",
       " 'roman': 527,\n",
       " 'trek': 528,\n",
       " 'jane': 529,\n",
       " 'matrix': 530,\n",
       " '80s': 531,\n",
       " 'identity': 532,\n",
       " 'rate': 533,\n",
       " 'newman': 534,\n",
       " 'nolan': 535,\n",
       " 'kelly': 536,\n",
       " 'bale': 537,\n",
       " 'provide': 538,\n",
       " 'russell': 539,\n",
       " 'del': 540,\n",
       " 'murray': 541,\n",
       " 'original': 542,\n",
       " 'rocky': 543,\n",
       " 'men': 544,\n",
       " 'princess': 545,\n",
       " 'damon': 546,\n",
       " 'heart': 547,\n",
       " 'vampires': 548,\n",
       " 'quentin': 549,\n",
       " 'recently': 550,\n",
       " 'favorite': 551,\n",
       " 'arnold': 552,\n",
       " 'now': 553,\n",
       " 'bullock': 554,\n",
       " 'zombie': 555,\n",
       " 'nicole': 556,\n",
       " 'haunted': 557,\n",
       " 'cowboy': 558,\n",
       " 'bogart': 559,\n",
       " 'fincher': 560,\n",
       " 'witch': 561,\n",
       " 'sam': 562,\n",
       " 'lemmon': 563,\n",
       " 'lynch': 564,\n",
       " 'vivien': 565,\n",
       " 'gregory': 566,\n",
       " 'emotional': 567,\n",
       " 'polanski': 568,\n",
       " 'federico': 569,\n",
       " 'guillermo': 570,\n",
       " 'toro': 571,\n",
       " 'judy': 572,\n",
       " 'keaton': 573,\n",
       " 'jimmy': 574,\n",
       " 'ghosts': 575,\n",
       " 'scorsese': 576,\n",
       " 'documentaries': 577,\n",
       " 'lost': 578,\n",
       " 'home': 579,\n",
       " 'bourne': 580,\n",
       " 'part': 581,\n",
       " 'hopkins': 582,\n",
       " 'mad': 583,\n",
       " 'lord': 584,\n",
       " 'rings': 585,\n",
       " 'van': 586,\n",
       " 'things': 587,\n",
       " 'lawrence': 588,\n",
       " 'appeared': 589,\n",
       " 'female': 590,\n",
       " 'days': 591,\n",
       " 'bette': 592,\n",
       " 'alive': 593,\n",
       " 'thompson': 594,\n",
       " 'denzel': 595,\n",
       " 'washington': 596,\n",
       " 'hoffman': 597,\n",
       " 'train': 598,\n",
       " 'they': 599,\n",
       " 'humphrey': 600,\n",
       " 'earth': 601,\n",
       " 'spencer': 602,\n",
       " 'mcqueen': 603,\n",
       " 'fox': 604,\n",
       " 'fellini': 605,\n",
       " 'drew': 606,\n",
       " 'stephen': 607,\n",
       " 'batman': 608,\n",
       " 'ii': 609,\n",
       " 'next': 610,\n",
       " 'laurence': 611,\n",
       " 'than': 612,\n",
       " 'roger': 613,\n",
       " 'norton': 614,\n",
       " 'says': 615,\n",
       " 'going': 616,\n",
       " 'pesci': 617,\n",
       " '10': 618,\n",
       " 'big': 619,\n",
       " 'chan': 620,\n",
       " 'academy': 621,\n",
       " 'ferrell': 622,\n",
       " 'joseph': 623,\n",
       " 'jerry': 624,\n",
       " 'after': 625,\n",
       " 'foster': 626,\n",
       " 'm': 627,\n",
       " 'london': 628,\n",
       " 'grossing': 629,\n",
       " 'hackman': 630,\n",
       " 'old': 631,\n",
       " 'secret': 632,\n",
       " 'charlize': 633,\n",
       " 'tarantino': 634,\n",
       " 'buzz': 635,\n",
       " 'lightyear': 636,\n",
       " 'samuel': 637,\n",
       " 'power': 638,\n",
       " 'mike': 639,\n",
       " 'huston': 640,\n",
       " 'morgan': 641,\n",
       " 'cagney': 642,\n",
       " 'dan': 643,\n",
       " 'marlon': 644,\n",
       " 'rain': 645,\n",
       " 'joan': 646,\n",
       " 'wild': 647,\n",
       " 'hayao': 648,\n",
       " 'miyazaki': 649,\n",
       " 'gold': 650,\n",
       " 'searching': 651,\n",
       " 'several': 652,\n",
       " 'deniro': 653,\n",
       " 'baseball': 654,\n",
       " 'garland': 655,\n",
       " 'reviewed': 656,\n",
       " 'nicholson': 657,\n",
       " 'superman': 658,\n",
       " 'ill': 659,\n",
       " 'baby': 660,\n",
       " 'susan': 661,\n",
       " 'aliens': 662,\n",
       " 'uses': 663,\n",
       " 'thomas': 664,\n",
       " 'only': 665,\n",
       " 'schwarzenegger': 666,\n",
       " 'toy': 667,\n",
       " 'cant': 668,\n",
       " 'caribbean': 669,\n",
       " 'jamie': 670,\n",
       " 'jon': 671,\n",
       " 'douglas': 672,\n",
       " 'jaws': 673,\n",
       " 'battle': 674,\n",
       " 'camp': 675,\n",
       " 'tyler': 676,\n",
       " 'word': 677,\n",
       " 'x': 678,\n",
       " 'drive': 679,\n",
       " 'renee': 680,\n",
       " 'sergio': 681,\n",
       " 'leone': 682,\n",
       " 'jodie': 683,\n",
       " 'fred': 684,\n",
       " 'shawshank': 685,\n",
       " 'off': 686,\n",
       " 'airplane': 687,\n",
       " 'jeremy': 688,\n",
       " 'theron': 689,\n",
       " 'blood': 690,\n",
       " 'cage': 691,\n",
       " 'young': 692,\n",
       " 'dealing': 693,\n",
       " 'boy': 694,\n",
       " 'freeman': 695,\n",
       " 'jean': 696,\n",
       " 'carter': 697,\n",
       " 'fear': 698,\n",
       " 'liam': 699,\n",
       " 'peck': 700,\n",
       " 'portrait': 701,\n",
       " 'michelangelo': 702,\n",
       " 'antonioni': 703,\n",
       " 'sofia': 704,\n",
       " 'elvis': 705,\n",
       " 'buy': 706,\n",
       " 'sheen': 707,\n",
       " 'dramatic': 708,\n",
       " 'cars': 709,\n",
       " 'devito': 710,\n",
       " 'score': 711,\n",
       " 'olivier': 712,\n",
       " 'keanu': 713,\n",
       " 'higher': 714,\n",
       " 'names': 715,\n",
       " 'books': 716,\n",
       " 'jeff': 717,\n",
       " 'awards': 718,\n",
       " 'henry': 719,\n",
       " 'robbery': 720,\n",
       " 'hill': 721,\n",
       " 'wrote': 722,\n",
       " 'avatar': 723,\n",
       " 'guy': 724,\n",
       " 'kind': 725,\n",
       " 'jackie': 726,\n",
       " 'eric': 727,\n",
       " '5': 728,\n",
       " 'third': 729,\n",
       " 'kidman': 730,\n",
       " 'theaters': 731,\n",
       " 'gone': 732,\n",
       " 'wind': 733,\n",
       " 'goodfellas': 734,\n",
       " 'hard': 735,\n",
       " '1995': 736,\n",
       " 'planet': 737,\n",
       " 'campbell': 738,\n",
       " 'age': 739,\n",
       " 'co': 740,\n",
       " 'powers': 741,\n",
       " 'jessica': 742,\n",
       " 'd': 743,\n",
       " 'arthur': 744,\n",
       " 'heston': 745,\n",
       " 'charlton': 746,\n",
       " 'wood': 747,\n",
       " 'york': 748,\n",
       " 'beauty': 749,\n",
       " 'kill': 750,\n",
       " 'tommy': 751,\n",
       " 'party': 752,\n",
       " 'caine': 753,\n",
       " 'katharine': 754,\n",
       " 'kiss': 755,\n",
       " 'neeson': 756,\n",
       " 'fritz': 757,\n",
       " 'sorvino': 758,\n",
       " 'andrew': 759,\n",
       " 'downey': 760,\n",
       " 'darabont': 761,\n",
       " 'terrence': 762,\n",
       " 't': 763,\n",
       " 'sight': 764,\n",
       " 'may': 765,\n",
       " 'dr': 766,\n",
       " 'willy': 767,\n",
       " 'aniston': 768,\n",
       " 'fast': 769,\n",
       " 'sutherland': 770,\n",
       " 'rick': 771,\n",
       " 'natalie': 772,\n",
       " 'worst': 773,\n",
       " 'dogs': 774,\n",
       " 'crowe': 775,\n",
       " 'bank': 776,\n",
       " 'together': 777,\n",
       " 'real': 778,\n",
       " 'dog': 779,\n",
       " 'mind': 780,\n",
       " 'quotes': 781,\n",
       " '1999': 782,\n",
       " 'twilight': 783,\n",
       " '1950s': 784,\n",
       " 'streep': 785,\n",
       " 'win': 786,\n",
       " 'silent': 787,\n",
       " 'gave': 788,\n",
       " 'say': 789,\n",
       " 'fish': 790,\n",
       " 'mash': 791,\n",
       " 'parker': 792,\n",
       " 'halle': 793,\n",
       " 'reynolds': 794,\n",
       " 'nicholas': 795,\n",
       " 'cop': 796,\n",
       " 'directing': 797,\n",
       " 'terry': 798,\n",
       " 'audiences': 799,\n",
       " 'spider': 800,\n",
       " 'horse': 801,\n",
       " 'zombies': 802,\n",
       " 'seeking': 803,\n",
       " 'road': 804,\n",
       " 'lion': 805,\n",
       " 'terminator': 806,\n",
       " 'singer': 807,\n",
       " 'knight': 808,\n",
       " 'silence': 809,\n",
       " 'austin': 810,\n",
       " 'major': 811,\n",
       " 'zemeckis': 812,\n",
       " 'hit': 813,\n",
       " 'money': 814,\n",
       " 'dont': 815,\n",
       " 'redford': 816,\n",
       " 'factory': 817,\n",
       " 'her': 818,\n",
       " 'eddie': 819,\n",
       " 'don': 820,\n",
       " 'ralph': 821,\n",
       " 'tony': 822,\n",
       " 'civil': 823,\n",
       " 'soon': 824,\n",
       " 'duvall': 825,\n",
       " 'audrey': 826,\n",
       " 'purple': 827,\n",
       " 'c': 828,\n",
       " 'hunter': 829,\n",
       " 'lang': 830,\n",
       " 'suggest': 831,\n",
       " 'levitation': 832,\n",
       " 'able': 833,\n",
       " 'audition': 834,\n",
       " 'palma': 835,\n",
       " 'lately': 836,\n",
       " 'malick': 837,\n",
       " 'carry': 838,\n",
       " 'lisa': 839,\n",
       " 'head': 840,\n",
       " 'barrymore': 841,\n",
       " 'both': 842,\n",
       " 'leonard': 843,\n",
       " 'british': 844,\n",
       " 'dvd': 845,\n",
       " 'crystal': 846,\n",
       " 'always': 847,\n",
       " 'furious': 848,\n",
       " 'stiller': 849,\n",
       " 'antonio': 850,\n",
       " 'foreign': 851,\n",
       " 'blue': 852,\n",
       " 'team': 853,\n",
       " 'friday': 854,\n",
       " 'dirty': 855,\n",
       " 'similar': 856,\n",
       " 'funniest': 857,\n",
       " 'sequel': 858,\n",
       " 'president': 859,\n",
       " 'she': 860,\n",
       " 'woods': 861,\n",
       " 'diaz': 862,\n",
       " 'beatles': 863,\n",
       " 'boxing': 864,\n",
       " 'meryl': 865,\n",
       " 'helen': 866,\n",
       " 'hunt': 867,\n",
       " '2004': 868,\n",
       " 'kung': 869,\n",
       " 'fu': 870,\n",
       " 'sand': 871,\n",
       " 'chick': 872,\n",
       " 'bad': 873,\n",
       " 'darkness': 874,\n",
       " 'berry': 875,\n",
       " 'pirate': 876,\n",
       " 'street': 877,\n",
       " 'another': 878,\n",
       " 'perry': 879,\n",
       " 'josh': 880,\n",
       " 'down': 881,\n",
       " 'nightmare': 882,\n",
       " 'hero': 883,\n",
       " 'die': 884,\n",
       " 'driver': 885,\n",
       " 'barry': 886,\n",
       " 'soundtracks': 887,\n",
       " 'playing': 888,\n",
       " 'relationship': 889,\n",
       " 'dialog': 890,\n",
       " 'boys': 891,\n",
       " 'walken': 892,\n",
       " 'heath': 893,\n",
       " 'flicks': 894,\n",
       " 'seymour': 895,\n",
       " 'justin': 896,\n",
       " 'scene': 897,\n",
       " 'vincent': 898,\n",
       " 'winslet': 899,\n",
       " 'chevy': 900,\n",
       " 'queen': 901,\n",
       " 'magic': 902,\n",
       " 'amy': 903,\n",
       " 'box': 904,\n",
       " 'adams': 905,\n",
       " 'period': 906,\n",
       " 'comes': 907,\n",
       " 'oscars': 908,\n",
       " 'meg': 909,\n",
       " 'goonies': 910,\n",
       " 'odyssey': 911,\n",
       " 'cooper': 912,\n",
       " 'roles': 913,\n",
       " 'broderick': 914,\n",
       " 'spacey': 915,\n",
       " 'half': 916,\n",
       " 'rainbow': 917,\n",
       " 'parody': 918,\n",
       " 'spy': 919,\n",
       " '2009': 920,\n",
       " 'version': 921,\n",
       " 'side': 922,\n",
       " 'seth': 923,\n",
       " 'hamilton': 924,\n",
       " 'sarah': 925,\n",
       " 'saying': 926,\n",
       " 'mob': 927,\n",
       " 'wonka': 928,\n",
       " 'shirley': 929,\n",
       " 'monster': 930,\n",
       " 'journey': 931,\n",
       " 'akira': 932,\n",
       " 'barbara': 933,\n",
       " 'catherine': 934,\n",
       " 'categories': 935,\n",
       " 'hugh': 936,\n",
       " 'brando': 937,\n",
       " 'takes': 938,\n",
       " 'andy': 939,\n",
       " 'greg': 940,\n",
       " 'keith': 941,\n",
       " 'debra': 942,\n",
       " 'town': 943,\n",
       " 'arquette': 944,\n",
       " 'thought': 945,\n",
       " 'jonathan': 946,\n",
       " 'happen': 947,\n",
       " 'coen': 948,\n",
       " 'lea': 949,\n",
       " 'potato': 950,\n",
       " 'sang': 951,\n",
       " 'levy': 952,\n",
       " 'alec': 953,\n",
       " 'ewan': 954,\n",
       " 'their': 955,\n",
       " 'texas': 956,\n",
       " 'locate': 957,\n",
       " 'banderas': 958,\n",
       " 'amanda': 959,\n",
       " 'dancing': 960,\n",
       " 'sarandon': 961,\n",
       " 'andrews': 962,\n",
       " 'judd': 963,\n",
       " 'health': 964,\n",
       " 'penn': 965,\n",
       " 'monsters': 966,\n",
       " 'remember': 967,\n",
       " 'luke': 968,\n",
       " 'pink': 969,\n",
       " 'animal': 970,\n",
       " 'jonah': 971,\n",
       " 'involve': 972,\n",
       " 'humor': 973,\n",
       " 'sylvester': 974,\n",
       " 'stallone': 975,\n",
       " 'kristen': 976,\n",
       " 'turner': 977,\n",
       " '1997': 978,\n",
       " 'carey': 979,\n",
       " 'curtis': 980,\n",
       " 'ghost': 981,\n",
       " 'created': 982,\n",
       " 'nominated': 983,\n",
       " 'summer': 984,\n",
       " 'pixar': 985,\n",
       " 'tucker': 986,\n",
       " 'alex': 987,\n",
       " 'emma': 988,\n",
       " 'post': 989,\n",
       " 'docudrama': 990,\n",
       " 'surfer': 991,\n",
       " 'runaway': 992,\n",
       " 'fight': 993,\n",
       " 'ledger': 994,\n",
       " 'island': 995,\n",
       " 'viewer': 996,\n",
       " 'sequels': 997,\n",
       " 'herman': 998,\n",
       " 'lambs': 999,\n",
       " 'prison': 1000,\n",
       " ...}"
      ]
     },
     "execution_count": 90,
     "metadata": {},
     "output_type": "execute_result"
    }
   ],
   "source": [
    "word_index"
   ]
  },
  {
   "cell_type": "markdown",
   "metadata": {},
   "source": [
    "Having a look at one of the tokenized and padded sentences:"
   ]
  },
  {
   "cell_type": "code",
   "execution_count": 91,
   "metadata": {},
   "outputs": [
    {
     "data": {
      "text/plain": [
       "array([  5,   8,  55, 257, 354,   0,   0,   0,   0,   0,   0,   0,   0,\n",
       "         0,   0,   0,   0,   0,   0,   0,   0,   0,   0,   0,   0,   0,\n",
       "         0,   0,   0,   0,   0,   0,   0,   0,   0,   0,   0,   0,   0,\n",
       "         0,   0,   0,   0,   0,   0,   0,   0,   0,   0,   0])"
      ]
     },
     "execution_count": 91,
     "metadata": {},
     "output_type": "execute_result"
    }
   ],
   "source": [
    "train_x_idx[0]"
   ]
  },
  {
   "cell_type": "markdown",
   "metadata": {},
   "source": [
    "Now, I transform the tags in Y to vectors as well. In this case I want to have 13 vectors per tag, each one representing one category. "
   ]
  },
  {
   "cell_type": "code",
   "execution_count": 92,
   "metadata": {},
   "outputs": [
    {
     "data": {
      "text/plain": [
       "{'DIRECTOR': 0,\n",
       " 'RATINGS_AVERAGE': 1,\n",
       " 'RATING': 2,\n",
       " 'SONG': 3,\n",
       " 'TITLE': 4,\n",
       " 'PLOT': 5,\n",
       " 'CHARACTER': 6,\n",
       " 'YEAR': 7,\n",
       " 'GENRE': 8,\n",
       " 'REVIEW': 9,\n",
       " 'ACTOR': 10,\n",
       " 'TRAILER': 11,\n",
       " 'O': 12}"
      ]
     },
     "execution_count": 92,
     "metadata": {},
     "output_type": "execute_result"
    }
   ],
   "source": [
    "def tag_dict(data):\n",
    "    data_flattened = [item for sublist in data for item in sublist]  \n",
    "    tags = list(set(data_flattened))    #list of tags\n",
    "    tag_idx={}\n",
    "    for x,tag in enumerate(tags):\n",
    "        tag_idx[tag]=x                  #dict of tags\n",
    "    return tag_idx, len(tag_idx), tags\n",
    "\n",
    "y_dict, dictTot, tags = tag_dict(train_y)\n",
    "\n",
    "y_dict"
   ]
  },
  {
   "cell_type": "code",
   "execution_count": 93,
   "metadata": {
    "scrolled": true
   },
   "outputs": [
    {
     "data": {
      "text/plain": [
       "array([[0., 0., 0., 0., 0., 0., 0., 0., 0., 0., 0., 0., 1.],\n",
       "       [0., 0., 0., 0., 0., 0., 0., 0., 0., 0., 0., 0., 1.],\n",
       "       [0., 0., 0., 0., 0., 0., 0., 0., 0., 0., 0., 0., 1.],\n",
       "       [0., 0., 0., 0., 0., 0., 0., 0., 0., 0., 1., 0., 0.],\n",
       "       [0., 0., 0., 0., 0., 0., 0., 0., 0., 0., 1., 0., 0.],\n",
       "       [0., 0., 0., 0., 0., 0., 0., 0., 0., 0., 0., 0., 1.],\n",
       "       [0., 0., 0., 0., 0., 0., 0., 0., 0., 0., 0., 0., 1.],\n",
       "       [0., 0., 0., 0., 0., 0., 0., 0., 0., 0., 0., 0., 1.],\n",
       "       [0., 0., 0., 0., 0., 0., 0., 0., 0., 0., 0., 0., 1.],\n",
       "       [0., 0., 0., 0., 0., 0., 0., 0., 0., 0., 0., 0., 1.],\n",
       "       [0., 0., 0., 0., 0., 0., 0., 0., 0., 0., 0., 0., 1.],\n",
       "       [0., 0., 0., 0., 0., 0., 0., 0., 0., 0., 0., 0., 1.],\n",
       "       [0., 0., 0., 0., 0., 0., 0., 0., 0., 0., 0., 0., 1.],\n",
       "       [0., 0., 0., 0., 0., 0., 0., 0., 0., 0., 0., 0., 1.],\n",
       "       [0., 0., 0., 0., 0., 0., 0., 0., 0., 0., 0., 0., 1.],\n",
       "       [0., 0., 0., 0., 0., 0., 0., 0., 0., 0., 0., 0., 1.],\n",
       "       [0., 0., 0., 0., 0., 0., 0., 0., 0., 0., 0., 0., 1.],\n",
       "       [0., 0., 0., 0., 0., 0., 0., 0., 0., 0., 0., 0., 1.],\n",
       "       [0., 0., 0., 0., 0., 0., 0., 0., 0., 0., 0., 0., 1.],\n",
       "       [0., 0., 0., 0., 0., 0., 0., 0., 0., 0., 0., 0., 1.]],\n",
       "      dtype=float32)"
      ]
     },
     "execution_count": 93,
     "metadata": {},
     "output_type": "execute_result"
    }
   ],
   "source": [
    "def tag_transform(tag_dict, data_y, max_len):\n",
    "    y = [[tag_dict[w] for w in s] for s in data_y]\n",
    "    y =pad_sequences(y, maxlen=max_len, padding='post', value = y_dict['O'])\n",
    "    y = [to_categorical(i, num_classes = dictTot) for i in  y]\n",
    "    return y\n",
    "\n",
    "train_y_idx = tag_transform(y_dict,train_y,MAX_LEN)\n",
    "test_y_idx = tag_transform(y_dict,test_y,MAX_LEN)\n",
    "\n",
    "train_y_idx[0][:20]"
   ]
  },
  {
   "cell_type": "markdown",
   "metadata": {},
   "source": [
    "## Model Selection and evaluation\n",
    "\n",
    "Now that the data is transformed into the correct format, I proceed to build the model. \n",
    "\n",
    "I will use a Bidirectional LSTM (Long Short Term Memory) model as these models tend to perform well on natural language tasks. When assessing a word, Bidirectional LSTM models are capabe of taking account previous words and later words in the sentence in order to provide context, this is one of the main advantages of this model as the nature of a word is often defined by it's context within a sentence.\n",
    "\n",
    "For this model I will also use a dropout layer and a recurrent dropout in order to regularize the model to ensure it generalizes well to unseen data.\n",
    "\n",
    "Finally, I've placed a dense layer right after the LSTM layer with 13 outputs (1 for each category) from which later I can pick the vector output with the highest probability as the predicted tag for the specific word."
   ]
  },
  {
   "cell_type": "code",
   "execution_count": 139,
   "metadata": {},
   "outputs": [],
   "source": [
    "DIM = 100  #dimension of word embedding\n",
    "\n",
    "#####Model#####\n",
    "input_words = Input(shape = (MAX_LEN,))\n",
    "model = Embedding(input_dim = MAX_WORDS, output_dim = DIM, input_length = MAX_LEN)(input_words)\n",
    "model = Dropout(0.2)(model)\n",
    "model = Bidirectional(LSTM(units = 128,return_sequences = True, recurrent_dropout = 0.1))(model)\n",
    "out = TimeDistributed(Dense(dictTot, activation = 'softmax'))(model)\n",
    "model = Model(inputs=input_words, outputs=out)"
   ]
  },
  {
   "cell_type": "markdown",
   "metadata": {},
   "source": [
    "I will compile the model using an adam optimizer and use the categorical crossentropy loss function (as I'm trying to predict the different categories of tags). Finally, I will use accuracy as the performance metric to evaluate the model."
   ]
  },
  {
   "cell_type": "code",
   "execution_count": 140,
   "metadata": {},
   "outputs": [
    {
     "name": "stdout",
     "output_type": "stream",
     "text": [
      "Model: \"functional_17\"\n",
      "_________________________________________________________________\n",
      "Layer (type)                 Output Shape              Param #   \n",
      "=================================================================\n",
      "input_10 (InputLayer)        [(None, 50)]              0         \n",
      "_________________________________________________________________\n",
      "embedding_9 (Embedding)      (None, 50, 100)           1000000   \n",
      "_________________________________________________________________\n",
      "dropout_9 (Dropout)          (None, 50, 100)           0         \n",
      "_________________________________________________________________\n",
      "bidirectional_9 (Bidirection (None, 50, 256)           234496    \n",
      "_________________________________________________________________\n",
      "time_distributed_9 (TimeDist (None, 50, 13)            3341      \n",
      "=================================================================\n",
      "Total params: 1,237,837\n",
      "Trainable params: 1,237,837\n",
      "Non-trainable params: 0\n",
      "_________________________________________________________________\n"
     ]
    }
   ],
   "source": [
    "model.compile(optimizer = 'adam',loss = 'categorical_crossentropy',metrics = ['accuracy'])\n",
    "model.summary()"
   ]
  },
  {
   "cell_type": "markdown",
   "metadata": {},
   "source": [
    "Above,I can see the layers and total parameters of my model as well as the tensor shapes of each layer. I want to make sure that my X and Y have the same dimensions as the model input and output."
   ]
  },
  {
   "cell_type": "code",
   "execution_count": 141,
   "metadata": {},
   "outputs": [
    {
     "name": "stdout",
     "output_type": "stream",
     "text": [
      "(9775, 50)\n",
      "(9775, 50, 13)\n"
     ]
    }
   ],
   "source": [
    "train_y_idx=np.array(train_y_idx)\n",
    "test_y_idx=np.array(test_y_idx)\n",
    "\n",
    "print(train_x_idx.shape)\n",
    "print(train_y_idx.shape)"
   ]
  },
  {
   "cell_type": "markdown",
   "metadata": {},
   "source": [
    "I can see that the dimensions match with the model requirements, so I proceed to fit the model. I use an input batch size of 64, I will leave 20% of the data for validation, and will run 10 epochs on the model."
   ]
  },
  {
   "cell_type": "code",
   "execution_count": 142,
   "metadata": {},
   "outputs": [
    {
     "name": "stdout",
     "output_type": "stream",
     "text": [
      "Epoch 1/10\n",
      "123/123 [==============================] - 70s 573ms/step - loss: 0.4700 - accuracy: 0.9152 - val_loss: 0.3079 - val_accuracy: 0.9204\n",
      "Epoch 2/10\n",
      "123/123 [==============================] - 64s 519ms/step - loss: 0.2480 - accuracy: 0.9289 - val_loss: 0.1780 - val_accuracy: 0.9467\n",
      "Epoch 3/10\n",
      "123/123 [==============================] - 63s 514ms/step - loss: 0.1406 - accuracy: 0.9636 - val_loss: 0.0962 - val_accuracy: 0.9763\n",
      "Epoch 4/10\n",
      "123/123 [==============================] - 66s 533ms/step - loss: 0.0838 - accuracy: 0.9793 - val_loss: 0.0695 - val_accuracy: 0.9808\n",
      "Epoch 5/10\n",
      "123/123 [==============================] - 77s 623ms/step - loss: 0.0611 - accuracy: 0.9841 - val_loss: 0.0613 - val_accuracy: 0.9829\n",
      "Epoch 6/10\n",
      "123/123 [==============================] - 72s 586ms/step - loss: 0.0502 - accuracy: 0.9864 - val_loss: 0.0601 - val_accuracy: 0.9825\n",
      "Epoch 7/10\n",
      "123/123 [==============================] - 72s 584ms/step - loss: 0.0428 - accuracy: 0.9884 - val_loss: 0.0535 - val_accuracy: 0.9846\n",
      "Epoch 8/10\n",
      "123/123 [==============================] - 73s 590ms/step - loss: 0.0372 - accuracy: 0.9898 - val_loss: 0.0517 - val_accuracy: 0.9848\n",
      "Epoch 9/10\n",
      "123/123 [==============================] - 89s 720ms/step - loss: 0.0330 - accuracy: 0.9908 - val_loss: 0.0575 - val_accuracy: 0.9839\n",
      "Epoch 10/10\n",
      "123/123 [==============================] - 86s 697ms/step - loss: 0.0297 - accuracy: 0.9918 - val_loss: 0.0594 - val_accuracy: 0.9830\n"
     ]
    },
    {
     "data": {
      "text/plain": [
       "<tensorflow.python.keras.callbacks.History at 0x35889400>"
      ]
     },
     "execution_count": 142,
     "metadata": {},
     "output_type": "execute_result"
    }
   ],
   "source": [
    "model.fit(train_x_idx, train_y_idx, batch_size = 64, verbose = 1, epochs = 10, validation_split = 0.2)"
   ]
  },
  {
   "cell_type": "markdown",
   "metadata": {},
   "source": [
    "I can see that the model has performed very well on the training data, achieving 99.18% accuracy. Now, I will run the model on the test data to see how it performs and ensure it's not overfitting. "
   ]
  },
  {
   "cell_type": "code",
   "execution_count": 143,
   "metadata": {},
   "outputs": [
    {
     "name": "stdout",
     "output_type": "stream",
     "text": [
      "77/77 [==============================] - 5s 63ms/step - loss: 0.0658 - accuracy: 0.9825\n"
     ]
    },
    {
     "data": {
      "text/plain": [
       "[0.06583928316831589, 0.9825214743614197]"
      ]
     },
     "execution_count": 143,
     "metadata": {},
     "output_type": "execute_result"
    }
   ],
   "source": [
    "model.evaluate(test_x_idx, test_y_idx)"
   ]
  },
  {
   "cell_type": "markdown",
   "metadata": {},
   "source": [
    "The model performs quite well on the test data, achieving 98,25% accuracy which means it's generalizing well to unseen data."
   ]
  },
  {
   "cell_type": "markdown",
   "metadata": {},
   "source": [
    "Finally, I've created a function that can be used to test the model with any new sentence the user would like to try."
   ]
  },
  {
   "cell_type": "code",
   "execution_count": 144,
   "metadata": {},
   "outputs": [],
   "source": [
    "def text_predict(text):\n",
    "    word_list = text.split(\" \")\n",
    "    \n",
    "    #tokenize and pad\n",
    "    x_idx=tokenizer.texts_to_sequences([text])\n",
    "    x_idx = pad_sequences(x_idx, maxlen=MAX_LEN, padding='post')\n",
    "                          \n",
    "    #predict tags                     \n",
    "    p = model.predict(np.array(x_idx))\n",
    "    p = np.argmax(p, axis = -1)\n",
    "                          \n",
    "    #present results                      \n",
    "    print(\"{:10}\\t{}\\n\".format(\"Word\", \"Prediction\"))\n",
    "    print(\"-\" * 25)\n",
    "    for (w, pred) in zip(range(len(word_list)), p[0][:(len(text))]):\n",
    "        print(\"{:10}\\t{}\".format(word_list[w], tags[pred]))\n"
   ]
  },
  {
   "cell_type": "markdown",
   "metadata": {},
   "source": [
    "Below, I try a new sentence to see how well my model categorizes each word."
   ]
  },
  {
   "cell_type": "code",
   "execution_count": 145,
   "metadata": {},
   "outputs": [
    {
     "name": "stdout",
     "output_type": "stream",
     "text": [
      "Word      \tPrediction\n",
      "\n",
      "-------------------------\n",
      "did       \tO\n",
      "brad      \tACTOR\n",
      "pitt      \tACTOR\n",
      "star      \tO\n",
      "in        \tO\n",
      "the       \tO\n",
      "action    \tGENRE\n",
      "movie     \tO\n",
      "fight     \tTITLE\n",
      "club?     \tTITLE\n"
     ]
    }
   ],
   "source": [
    "text_predict(\"did brad pitt star in the action movie fight club?\")"
   ]
  },
  {
   "cell_type": "markdown",
   "metadata": {},
   "source": [
    "I can see that the model is predicting well that Brad Pitt is an actor, that 'action' is a movie gender, and that Fight Club is the title of the movie.  "
   ]
  },
  {
   "cell_type": "markdown",
   "metadata": {},
   "source": [
    "## Potential Improvements\n",
    "\n",
    "For next steps, different hyperparameter values can be tried to see if the performance of the model improves. The model could be trained for more epochs, we could see how in every epoch the model improved, in the final epochs the improvements were smaller, nevertheless training for more epochs will most likely result in a slight improvement of performance. Different dropout values could be tried to see if the model generalizes better to the test data. A different architecture could also be tried, as an example a Second LSTM layer could be place on top of the first one, an another dropout layer could be added, A Conditional Random field (CRF) layer could also be added after the second LSTM layer, Bi-LSTM to CRF models have shown to perform well on NER tasks. Finally, changing the input sentence length to accept more words in the sentences could potencially improve the model performance."
   ]
  },
  {
   "cell_type": "markdown",
   "metadata": {},
   "source": [
    "# Second Dataset: trivia10k13test.bio\n",
    "\n",
    "For entity extraction in the second dataset I will use the same process I used in the first section and reuse some of the earlier functions. The first model gave good results so I will build and train a similar model for this dataset. "
   ]
  },
  {
   "cell_type": "markdown",
   "metadata": {},
   "source": [
    "## Data Load"
   ]
  },
  {
   "cell_type": "code",
   "execution_count": 63,
   "metadata": {},
   "outputs": [
    {
     "name": "stderr",
     "output_type": "stream",
     "text": [
      "  % Total    % Received % Xferd  Average Speed   Time    Time     Time  Current\n",
      "                                 Dload  Upload   Total   Spent    Left  Speed\n",
      "\n",
      "  0     0    0     0    0     0      0      0 --:--:-- --:--:-- --:--:--     0\n",
      "  0     0    0     0    0     0      0      0 --:--:-- --:--:-- --:--:--     0\n",
      "  0  428k    0     0    0     0      0      0 --:--:--  0:00:01 --:--:--     0\n",
      "100  428k  100  428k    0     0   254k      0  0:00:01  0:00:01 --:--:--  254k\n",
      "  % Total    % Received % Xferd  Average Speed   Time    Time     Time  Current\n",
      "                                 Dload  Upload   Total   Spent    Left  Speed\n",
      "\n",
      "  0     0    0     0    0     0      0      0 --:--:-- --:--:-- --:--:--     0\n",
      "  0     0    0     0    0     0      0      0 --:--:-- --:--:-- --:--:--     0\n",
      "  5 1743k    5 98304    0     0  81715      0  0:00:21  0:00:01  0:00:20 81715\n",
      "100 1743k  100 1743k    0     0   815k      0  0:00:02  0:00:02 --:--:--  815k\n"
     ]
    }
   ],
   "source": [
    "!curl https://groups.csail.mit.edu/sls/downloads/movie/trivia10k13test.bio -o data/test2.txt\n",
    "!curl https://groups.csail.mit.edu/sls/downloads/movie/trivia10k13train.bio -o data/train2.txt    "
   ]
  },
  {
   "cell_type": "code",
   "execution_count": 123,
   "metadata": {},
   "outputs": [],
   "source": [
    "train2_x, train2_y = load_data(\"data/train2.txt\")\n",
    "test2_x, test2_y = load_data(\"data/test2.txt\")"
   ]
  },
  {
   "cell_type": "code",
   "execution_count": 124,
   "metadata": {},
   "outputs": [
    {
     "data": {
      "text/plain": [
       "['steve mcqueen provided a thrilling motorcycle chase in this greatest of all ww 2 prison escape movies',\n",
       " 'liza minnelli and joel gray won oscars for their roles in this 1972 movie that follows nightclub entertainers in berlin as the nazis come to power',\n",
       " 'what is that tom hanks and julia roberts movie about hanks who plays a down on his luck average guy who goes back to college and gets taught by roberts',\n",
       " 'what is the movie making fun of macgyver by re enacting scenes similar to his movies',\n",
       " 'i am thinking of an animated film based on a classic theodor geisel children s novel about a young boy s quest to save the trees']"
      ]
     },
     "execution_count": 124,
     "metadata": {},
     "output_type": "execute_result"
    }
   ],
   "source": [
    "train2_x[:5]"
   ]
  },
  {
   "cell_type": "code",
   "execution_count": 125,
   "metadata": {},
   "outputs": [
    {
     "name": "stdout",
     "output_type": "stream",
     "text": [
      "train data\n",
      "total amount of sentences: 7816\n",
      "Maximum sentence length: 396\n",
      "test data\n",
      "total amount of sentences: 1953\n",
      "Maximum sentence length: 364\n"
     ]
    }
   ],
   "source": [
    "print('train data')\n",
    "sentence_feat(train2_x)\n",
    "print('test data')\n",
    "sentence_feat(test2_x)"
   ]
  },
  {
   "cell_type": "code",
   "execution_count": 126,
   "metadata": {},
   "outputs": [
    {
     "data": {
      "image/png": "[encoded data removed]",
      "text/plain": [
       "<Figure size 1008x504 with 1 Axes>"
      ]
     },
     "metadata": {
      "needs_background": "light"
     },
     "output_type": "display_data"
    }
   ],
   "source": [
    "sentence_hist(train2_x)"
   ]
  },
  {
   "cell_type": "markdown",
   "metadata": {},
   "source": [
    "Sentences are longer in this new data set. In the histogram I can see that the average length of sentences is near 100 words per sentence. I will use 100 as the max sentence length for the model input."
   ]
  },
  {
   "cell_type": "markdown",
   "metadata": {},
   "source": [
    "## Preprocessing"
   ]
  },
  {
   "cell_type": "code",
   "execution_count": 127,
   "metadata": {},
   "outputs": [],
   "source": [
    "MAX_LEN2=100\n",
    "\n",
    "#fit tokenizer\n",
    "tokenizer2 = Tokenizer (num_words=MAX_WORDS, oov_token='<OOV>')\n",
    "tokenizer2.fit_on_texts(train2_x)\n",
    "word_index = tokenizer2.word_index\n",
    "\n",
    "#tokenize & pad train data\n",
    "train2_x_idx = tokenizer2.texts_to_sequences(train2_x)\n",
    "train2_x_idx = pad_sequences(train2_x_idx, maxlen=MAX_LEN2, padding='post')\n",
    "\n",
    "#tokenize & pad test data\n",
    "test2_x_idx = tokenizer.texts_to_sequences(test2_x)\n",
    "test2_x_idx = pad_sequences(test2_x_idx, maxlen=MAX_LEN2, padding='post')"
   ]
  },
  {
   "cell_type": "code",
   "execution_count": 128,
   "metadata": {},
   "outputs": [
    {
     "data": {
      "text/plain": [
       "{'Origin': 0,\n",
       " 'Award': 1,\n",
       " 'Director': 2,\n",
       " 'Actor': 3,\n",
       " 'Character_Name': 4,\n",
       " 'Opinion': 5,\n",
       " 'Plot': 6,\n",
       " 'Soundtrack': 7,\n",
       " 'Quote': 8,\n",
       " 'Genre': 9,\n",
       " 'Relationship': 10,\n",
       " 'Year': 11,\n",
       " 'O': 12}"
      ]
     },
     "execution_count": 128,
     "metadata": {},
     "output_type": "execute_result"
    }
   ],
   "source": [
    "y2_dict, dictTot2, tags2 = tag_dict(train2_y)\n",
    "y2_dict"
   ]
  },
  {
   "cell_type": "code",
   "execution_count": 129,
   "metadata": {},
   "outputs": [],
   "source": [
    "train2_y_idx = tag_transform(y2_dict,train2_y,MAX_LEN2)\n",
    "test2_y_idx = tag_transform(y2_dict,test2_y,MAX_LEN2)"
   ]
  },
  {
   "cell_type": "code",
   "execution_count": 130,
   "metadata": {},
   "outputs": [
    {
     "data": {
      "text/plain": [
       "array([[0., 0., 0., 1., 0., 0., 0., 0., 0., 0., 0., 0., 0.],\n",
       "       [0., 0., 0., 1., 0., 0., 0., 0., 0., 0., 0., 0., 0.],\n",
       "       [0., 0., 0., 0., 0., 0., 0., 0., 0., 0., 0., 0., 1.],\n",
       "       [0., 0., 0., 0., 0., 0., 0., 0., 0., 0., 0., 0., 1.],\n",
       "       [0., 0., 0., 0., 0., 0., 1., 0., 0., 0., 0., 0., 0.],\n",
       "       [0., 0., 0., 0., 0., 0., 1., 0., 0., 0., 0., 0., 0.],\n",
       "       [0., 0., 0., 0., 0., 0., 1., 0., 0., 0., 0., 0., 0.],\n",
       "       [0., 0., 0., 0., 0., 0., 1., 0., 0., 0., 0., 0., 0.],\n",
       "       [0., 0., 0., 0., 0., 0., 1., 0., 0., 0., 0., 0., 0.],\n",
       "       [0., 0., 0., 0., 0., 1., 0., 0., 0., 0., 0., 0., 0.],\n",
       "       [0., 0., 0., 0., 0., 1., 0., 0., 0., 0., 0., 0., 0.],\n",
       "       [0., 0., 0., 0., 0., 1., 0., 0., 0., 0., 0., 0., 0.],\n",
       "       [0., 0., 0., 0., 0., 0., 1., 0., 0., 0., 0., 0., 0.],\n",
       "       [0., 0., 0., 0., 0., 0., 1., 0., 0., 0., 0., 0., 0.],\n",
       "       [0., 0., 0., 0., 0., 0., 1., 0., 0., 0., 0., 0., 0.],\n",
       "       [0., 0., 0., 0., 0., 0., 1., 0., 0., 0., 0., 0., 0.],\n",
       "       [0., 0., 0., 0., 0., 0., 1., 0., 0., 0., 0., 0., 0.],\n",
       "       [0., 0., 0., 0., 0., 0., 0., 0., 0., 0., 0., 0., 1.],\n",
       "       [0., 0., 0., 0., 0., 0., 0., 0., 0., 0., 0., 0., 1.],\n",
       "       [0., 0., 0., 0., 0., 0., 0., 0., 0., 0., 0., 0., 1.]],\n",
       "      dtype=float32)"
      ]
     },
     "execution_count": 130,
     "metadata": {},
     "output_type": "execute_result"
    }
   ],
   "source": [
    "train2_y_idx[0][:20]"
   ]
  },
  {
   "cell_type": "markdown",
   "metadata": {},
   "source": [
    "## Model Selection and evaluation"
   ]
  },
  {
   "cell_type": "code",
   "execution_count": 131,
   "metadata": {},
   "outputs": [],
   "source": [
    "input_words2 = Input(shape = (MAX_LEN2,))\n",
    "model2 = Embedding(input_dim = MAX_WORDS, output_dim = DIM, input_length = MAX_LEN2)(input_words2)\n",
    "model2 = Dropout(0.2)(model2)\n",
    "model2 = Bidirectional(LSTM(units = 128,return_sequences = True, recurrent_dropout = 0.1))(model2)\n",
    "out2 = TimeDistributed(Dense(dictTot2, activation = 'softmax'))(model2)\n",
    "model2 = Model(inputs=input_words2, outputs=out2)"
   ]
  },
  {
   "cell_type": "code",
   "execution_count": 135,
   "metadata": {},
   "outputs": [
    {
     "name": "stdout",
     "output_type": "stream",
     "text": [
      "Model: \"functional_15\"\n",
      "_________________________________________________________________\n",
      "Layer (type)                 Output Shape              Param #   \n",
      "=================================================================\n",
      "input_9 (InputLayer)         [(None, 100)]             0         \n",
      "_________________________________________________________________\n",
      "embedding_8 (Embedding)      (None, 100, 100)          1000000   \n",
      "_________________________________________________________________\n",
      "dropout_8 (Dropout)          (None, 100, 100)          0         \n",
      "_________________________________________________________________\n",
      "bidirectional_8 (Bidirection (None, 100, 256)          234496    \n",
      "_________________________________________________________________\n",
      "time_distributed_8 (TimeDist (None, 100, 13)           3341      \n",
      "=================================================================\n",
      "Total params: 1,237,837\n",
      "Trainable params: 1,237,837\n",
      "Non-trainable params: 0\n",
      "_________________________________________________________________\n"
     ]
    }
   ],
   "source": [
    "model2.compile(optimizer = 'adam',loss = 'categorical_crossentropy',metrics = ['accuracy'])\n",
    "model2.summary()"
   ]
  },
  {
   "cell_type": "code",
   "execution_count": 136,
   "metadata": {},
   "outputs": [
    {
     "name": "stdout",
     "output_type": "stream",
     "text": [
      "(7816, 100)\n",
      "(7816, 100, 13)\n"
     ]
    }
   ],
   "source": [
    "train2_y_idx=np.array(train2_y_idx)\n",
    "test2_y_idx=np.array(test2_y_idx)\n",
    "\n",
    "print(train2_x_idx.shape)\n",
    "print(train2_y_idx.shape)"
   ]
  },
  {
   "cell_type": "code",
   "execution_count": 137,
   "metadata": {},
   "outputs": [
    {
     "name": "stdout",
     "output_type": "stream",
     "text": [
      "Epoch 1/10\n",
      "98/98 [==============================] - 128s 1s/step - loss: 0.4977 - accuracy: 0.8793 - val_loss: 0.3272 - val_accuracy: 0.9115\n",
      "Epoch 2/10\n",
      "98/98 [==============================] - 131s 1s/step - loss: 0.2491 - accuracy: 0.9359 - val_loss: 0.2334 - val_accuracy: 0.9290\n",
      "Epoch 3/10\n",
      "98/98 [==============================] - 128s 1s/step - loss: 0.1744 - accuracy: 0.9482 - val_loss: 0.1751 - val_accuracy: 0.9484\n",
      "Epoch 4/10\n",
      "98/98 [==============================] - 122s 1s/step - loss: 0.1282 - accuracy: 0.9632 - val_loss: 0.1362 - val_accuracy: 0.9592\n",
      "Epoch 5/10\n",
      "98/98 [==============================] - 137s 1s/step - loss: 0.0986 - accuracy: 0.9715 - val_loss: 0.1142 - val_accuracy: 0.9650\n",
      "Epoch 6/10\n",
      "98/98 [==============================] - 120s 1s/step - loss: 0.0815 - accuracy: 0.9758 - val_loss: 0.1021 - val_accuracy: 0.9693\n",
      "Epoch 7/10\n",
      "98/98 [==============================] - 115s 1s/step - loss: 0.0699 - accuracy: 0.9790 - val_loss: 0.0951 - val_accuracy: 0.9712\n",
      "Epoch 8/10\n",
      "98/98 [==============================] - 132s 1s/step - loss: 0.0603 - accuracy: 0.9812 - val_loss: 0.0938 - val_accuracy: 0.9724\n",
      "Epoch 9/10\n",
      "98/98 [==============================] - 130s 1s/step - loss: 0.0529 - accuracy: 0.9832 - val_loss: 0.0927 - val_accuracy: 0.9721\n",
      "Epoch 10/10\n",
      "98/98 [==============================] - 134s 1s/step - loss: 0.0477 - accuracy: 0.9845 - val_loss: 0.0897 - val_accuracy: 0.9728\n"
     ]
    },
    {
     "data": {
      "text/plain": [
       "<tensorflow.python.keras.callbacks.History at 0x47ffd580>"
      ]
     },
     "execution_count": 137,
     "metadata": {},
     "output_type": "execute_result"
    }
   ],
   "source": [
    "model2.fit(train2_x_idx, train2_y_idx, batch_size = 64, verbose = 1, epochs = 10, validation_split = 0.2)"
   ]
  },
  {
   "cell_type": "code",
   "execution_count": 138,
   "metadata": {},
   "outputs": [
    {
     "name": "stdout",
     "output_type": "stream",
     "text": [
      "62/62 [==============================] - 7s 111ms/step - loss: 0.5024 - accuracy: 0.8970\n"
     ]
    },
    {
     "data": {
      "text/plain": [
       "[0.5023682713508606, 0.8970404267311096]"
      ]
     },
     "execution_count": 138,
     "metadata": {},
     "output_type": "execute_result"
    }
   ],
   "source": [
    "model2.evaluate(test2_x_idx, test2_y_idx)"
   ]
  },
  {
   "cell_type": "markdown",
   "metadata": {},
   "source": [
    "## Potential Improvements\n",
    "The model reaches 98.45% accuracy in the training data and 89.7% in the test data. This means that the model has a good performance, yet it's slightly overfitting the data, there is almost a 10% decrease in accuracy between the training and testing data. This means there's an opportunity to improve the regularization of the model in order for it to generalize better to unseen data. The potential improvements described in the first section can be applied to this model, in particular it would be useful to try different dropout values or layers, and try applying L2 regularization to the weights of the neural network."
   ]
  }
 ],
 "metadata": {
  "kernelspec": {
   "display_name": "Python 3",
   "language": "python",
   "name": "python3"
  }
 },
 "nbformat": 4,
 "nbformat_minor": 4
}
