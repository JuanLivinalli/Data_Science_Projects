{
 "cells": [
  {
   "cell_type": "markdown",
   "metadata": {},
   "source": [
    "# KPMG Skill Assesment - Juan Livinalli\n",
    "## Named Entity Recognition on the MIT Movie Corpus\n",
    "In this notebook I will develop the code to train a model to be able to perform NER on the MIT Movie Corpus and on new sentences. For this NLP task I will use the neural network library Keras to design and train a neural network to perform NER."
   ]
  },
  {
   "cell_type": "code",
   "execution_count": 1,
   "metadata": {},
   "outputs": [],
   "source": [
    "import numpy as np\n",
    "from keras.models import Model\n",
    "from keras.layers import Dense, Input, Dropout, LSTM\n",
    "from tensorflow.keras.preprocessing.text import one_hot, Tokenizer\n",
    "from tensorflow.keras.preprocessing.sequence import pad_sequences\n",
    "from keras.layers.embeddings import Embedding\n",
    "from keras.preprocessing import sequence\n",
    "from keras.utils import to_categorical\n",
    "from tensorflow.keras.layers import TimeDistributed, Bidirectional\n",
    "import matplotlib.pyplot as plt\n",
    "from keras.utils.vis_utils import plot_model"
   ]
  },
  {
   "cell_type": "markdown",
   "metadata": {},
   "source": [
    "## Loading the Data\n",
    "First, I download the engtest test and engtrain dataset from the MIT Movie Corpus and save them in the 'data' folder."
   ]
  },
  {
   "cell_type": "code",
   "execution_count": 83,
   "metadata": {
    "scrolled": true
   },
   "outputs": [
    {
     "name": "stderr",
     "output_type": "stream",
     "text": [
      "  % Total    % Received % Xferd  Average Speed   Time    Time     Time  Current\n",
      "                                 Dload  Upload   Total   Spent    Left  Speed\n",
      "\n",
      "  0     0    0     0    0     0      0      0 --:--:-- --:--:-- --:--:--     0\n",
      "  0     0    0     0    0     0      0      0 --:--:-- --:--:-- --:--:--     0\n",
      "  0     0    0     0    0     0      0      0 --:--:--  0:00:01 --:--:--     0\n",
      "  0     0    0     0    0     0      0      0 --:--:--  0:00:02 --:--:--     0\n",
      " 77  246k   77  192k    0     0  61982      0  0:00:04  0:00:03  0:00:01 61962\n",
      "100  246k  100  246k    0     0  79595      0  0:00:03  0:00:03 --:--:-- 79570\n",
      "  % Total    % Received % Xferd  Average Speed   Time    Time     Time  Current\n",
      "                                 Dload  Upload   Total   Spent    Left  Speed\n",
      "\n",
      "  0     0    0     0    0     0      0      0 --:--:-- --:--:-- --:--:--     0\n",
      "  0     0    0     0    0     0      0      0 --:--:--  0:00:01 --:--:--     0\n",
      "  0  989k    0     0    0     0      0      0 --:--:--  0:00:02 --:--:--     0\n",
      " 22  989k   22  224k    0     0  79313      0  0:00:12  0:00:02  0:00:10 79313\n",
      " 54  989k   54  544k    0     0   120k      0  0:00:08  0:00:04  0:00:04  120k\n",
      " 54  989k   54  544k    0     0   106k      0  0:00:09  0:00:05  0:00:04  106k\n",
      " 92  989k   92  912k    0     0   154k      0  0:00:06  0:00:05  0:00:01  204k\n",
      "100  989k  100  989k    0     0   164k      0  0:00:06  0:00:06 --:--:--  252k\n"
     ]
    }
   ],
   "source": [
    "!curl https://groups.csail.mit.edu/sls/downloads/movie/engtest.bio -o data/test.txt\n",
    "!curl https://groups.csail.mit.edu/sls/downloads/movie/engtrain.bio -o data/train.txt"
   ]
  },
  {
   "cell_type": "markdown",
   "metadata": {},
   "source": [
    "Next, I will define a function to transform the BIO format into a list of sentences and a list of tags. I will the use this function to create the X predictor variables and the Y tags to be predicted."
   ]
  },
  {
   "cell_type": "code",
   "execution_count": 2,
   "metadata": {},
   "outputs": [],
   "source": [
    "def load_data(file):\n",
    "    file = open(file, 'r')\n",
    "    data_x, data_y = [], []\n",
    "    sentence, labels = [], []\n",
    "    for i in file:\n",
    "        line = i.strip(\"\\n\").split(\"\\t\")\n",
    "       \n",
    "        #len > 1 are words\n",
    "        if len(line) > 1:\n",
    "            sentence.append(line[1])\n",
    "            labels.append(line[0][2:]) if len(line[0]) > 1 else labels.append(line[0])\n",
    "       \n",
    "        #len == 1 are sentence breaks\n",
    "        if len(line) == 1:\n",
    "            data_x.append(' '.join(sentence))\n",
    "            data_y.append(labels)\n",
    "            sentence, labels = [], []\n",
    "    return data_x, data_y\n",
    "\n",
    "train_x, train_y = load_data(\"data/train.txt\")\n",
    "test_x, test_y = load_data(\"data/test.txt\")"
   ]
  },
  {
   "cell_type": "markdown",
   "metadata": {},
   "source": [
    "## Exploratory Data Analysis\n",
    "Now, lets a look at the data in x and y:"
   ]
  },
  {
   "cell_type": "code",
   "execution_count": 3,
   "metadata": {},
   "outputs": [
    {
     "data": {
      "text/plain": [
       "['what movies star bruce willis',\n",
       " 'show me films with drew barrymore from the 1980s',\n",
       " 'what movies starred both al pacino and robert deniro',\n",
       " 'find me all of the movies that starred harold ramis and bill murray',\n",
       " 'find me a movie with a quote about baseball in it',\n",
       " 'what movies have mississippi in the title',\n",
       " 'show me science fiction films directed by steven spielberg',\n",
       " 'do you have any thrillers directed by sofia coppola',\n",
       " 'what leonard cohen songs have been used in a movie',\n",
       " 'show me films elvis films set in hawaii']"
      ]
     },
     "execution_count": 3,
     "metadata": {},
     "output_type": "execute_result"
    }
   ],
   "source": [
    "train_x[:10]"
   ]
  },
  {
   "cell_type": "code",
   "execution_count": 4,
   "metadata": {},
   "outputs": [
    {
     "data": {
      "text/plain": [
       "[['O', 'O', 'O', 'ACTOR', 'ACTOR'],\n",
       " ['O', 'O', 'O', 'O', 'ACTOR', 'ACTOR', 'O', 'O', 'YEAR'],\n",
       " ['O', 'O', 'O', 'O', 'ACTOR', 'ACTOR', 'O', 'ACTOR', 'ACTOR'],\n",
       " ['O',\n",
       "  'O',\n",
       "  'O',\n",
       "  'O',\n",
       "  'O',\n",
       "  'O',\n",
       "  'O',\n",
       "  'O',\n",
       "  'ACTOR',\n",
       "  'ACTOR',\n",
       "  'O',\n",
       "  'ACTOR',\n",
       "  'ACTOR'],\n",
       " ['O', 'O', 'O', 'O', 'O', 'O', 'O', 'O', 'O', 'O', 'O'],\n",
       " ['O', 'O', 'O', 'TITLE', 'O', 'O', 'O'],\n",
       " ['O', 'O', 'GENRE', 'GENRE', 'GENRE', 'O', 'O', 'DIRECTOR', 'DIRECTOR'],\n",
       " ['O', 'O', 'O', 'O', 'GENRE', 'O', 'O', 'DIRECTOR', 'DIRECTOR'],\n",
       " ['O', 'SONG', 'SONG', 'SONG', 'O', 'O', 'O', 'O', 'O', 'O'],\n",
       " ['O', 'O', 'O', 'ACTOR', 'O', 'PLOT', 'PLOT', 'PLOT']]"
      ]
     },
     "execution_count": 4,
     "metadata": {},
     "output_type": "execute_result"
    }
   ],
   "source": [
    "train_y[:10]"
   ]
  },
  {
   "cell_type": "markdown",
   "metadata": {},
   "source": [
    "Lets see how many sentences we have in the train and test data. I also want to see what's the longest sentence."
   ]
  },
  {
   "cell_type": "code",
   "execution_count": 87,
   "metadata": {},
   "outputs": [
    {
     "name": "stdout",
     "output_type": "stream",
     "text": [
      "train data\n",
      "total amount of sentences: 9775\n",
      "Maximum sentence length: 258\n",
      "test data\n",
      "total amount of sentences: 2443\n",
      "Maximum sentence length: 175\n"
     ]
    }
   ],
   "source": [
    "def sentence_feat(data_x):\n",
    "    #total amount of sentences in the dataset\n",
    "    total_sent = len(data_x)\n",
    "    print('total amount of sentences:',total_sent)\n",
    "\n",
    "    #longest sentence length in the dataset\n",
    "    maxlen = max([len(s) for s in data_x])\n",
    "    print ('Maximum sentence length:', maxlen)\n",
    "\n",
    "print('train data')\n",
    "sentence_feat(train_x)\n",
    "print('test data')\n",
    "sentence_feat(test_x)"
   ]
  },
  {
   "cell_type": "markdown",
   "metadata": {},
   "source": [
    "The maximum sentence is quite long, I will plot a histogram of the sentences lenght to see what is the sentence size for the majority of the data."
   ]
  },
  {
   "cell_type": "code",
   "execution_count": 88,
   "metadata": {},
   "outputs": [
    {
     "data": {
      "image/png": "[encoded data removed]",
      "text/plain": [
       "<Figure size 1008x504 with 1 Axes>"
      ]
     },
     "metadata": {
      "needs_background": "light"
     },
     "output_type": "display_data"
    }
   ],
   "source": [
    "def sentence_hist(data_x):\n",
    "    plt.figure(figsize=(14,7))\n",
    "    plt.hist([len(s) for s in data_x],bins = 50)\n",
    "    plt.xlabel(\"Length of Sentences\")\n",
    "    plt.show()\n",
    "    \n",
    "sentence_hist(train_x)"
   ]
  },
  {
   "cell_type": "markdown",
   "metadata": {},
   "source": [
    "The plot shows that the average lenght of a sentence in the data is near 50 words. \n",
    "## Data Preprocessing\n",
    "In order to prepare the data so that it can be used by the model, I will perform the following tranformation:\n",
    "\n",
    "Tokenize the data: The model doesn't not understand words, therefore the input data needs to be transformed through a process called tokenization where a number will be assigned to each distinct word. Here I've place the limit to tokenize up to 10000 words and I've also allocated one number for all words not in the vocabulary OOV.\n",
    "\n",
    "Pad the data: for our recurrent neural network to work we need all inputs to have the same dimensions, therefore we will make all sentence size equal by padding small sentences and truncating big sentences. I've chosen 50 as the number of words for all input sentences since, as seen in the histogram, the majority of sentences in the data have around 50 words.\n",
    "\n",
    "Perform word embeddings: I will use Keras embedding layer to embed the one-hot encoded words in the input into embedded words. By performing word embeddings I can reduce the dimensionality of my input from 10000 vectors to 100 vectors in an embedded matrix which is very helpful at reducing the complexity of our model since it will not need as many parametes if the input uses 100 vectors per word. Also, by training this layer, the embedding will find relationships between words in the vocab which can be very helpful for training the model."
   ]
  },
  {
   "cell_type": "code",
   "execution_count": 7,
   "metadata": {},
   "outputs": [],
   "source": [
    "MAX_WORDS = 10000  #total words being tokenized\n",
    "MAX_LEN = 50       #total length of sentence\n",
    "\n",
    "#fit tokenizer\n",
    "tokenizer = Tokenizer (num_words=MAX_WORDS, oov_token='<OOV>')\n",
    "tokenizer.fit_on_texts(train_x)\n",
    "word_index = tokenizer.word_index\n",
    "\n",
    "#tokenize & pad train data\n",
    "train_x_idx = tokenizer.texts_to_sequences(train_x)\n",
    "train_x_idx = pad_sequences(train_x_idx, maxlen=MAX_LEN, padding='post')\n",
    "\n",
    "#tokenize & pad test data\n",
    "test_x_idx = tokenizer.texts_to_sequences(test_x)\n",
    "test_x_idx = pad_sequences(test_x_idx, maxlen=MAX_LEN, padding='post')"
   ]
  },
  {
   "cell_type": "markdown",
   "metadata": {},
   "source": [
    "Having a look at the word index created by the tokenization of the data:"
   ]
  },
  {
   "cell_type": "code",
   "execution_count": 13,
   "metadata": {},
   "outputs": [
    {
     "data": {
      "text/plain": [
       "{'<OOV>': 1,\n",
       " 'the': 2,\n",
       " 'a': 3,\n",
       " 'movie': 4,\n",
       " 'what': 5,\n",
       " 'in': 6,\n",
       " 'is': 7,\n",
       " 'movies': 8,\n",
       " 'that': 9,\n",
       " 'was': 10,\n",
       " 'rated': 11,\n",
       " 'of': 12,\n",
       " 'with': 13,\n",
       " 'film': 14,\n",
       " 'about': 15}"
      ]
     },
     "execution_count": 13,
     "metadata": {},
     "output_type": "execute_result"
    }
   ],
   "source": [
    "dict(list(word_index.items())[0:15])"
   ]
  },
  {
   "cell_type": "markdown",
   "metadata": {},
   "source": [
    "Having a look at one of the tokenized and padded sentences:"
   ]
  },
  {
   "cell_type": "code",
   "execution_count": 91,
   "metadata": {},
   "outputs": [
    {
     "data": {
      "text/plain": [
       "array([  5,   8,  55, 257, 354,   0,   0,   0,   0,   0,   0,   0,   0,\n",
       "         0,   0,   0,   0,   0,   0,   0,   0,   0,   0,   0,   0,   0,\n",
       "         0,   0,   0,   0,   0,   0,   0,   0,   0,   0,   0,   0,   0,\n",
       "         0,   0,   0,   0,   0,   0,   0,   0,   0,   0,   0])"
      ]
     },
     "execution_count": 91,
     "metadata": {},
     "output_type": "execute_result"
    }
   ],
   "source": [
    "train_x_idx[0]"
   ]
  },
  {
   "cell_type": "markdown",
   "metadata": {},
   "source": [
    "Now, I transform the tags in Y to vectors as well. In this case I want to have 13 vectors per tag, each one representing one category. "
   ]
  },
  {
   "cell_type": "code",
   "execution_count": 92,
   "metadata": {},
   "outputs": [
    {
     "data": {
      "text/plain": [
       "{'DIRECTOR': 0,\n",
       " 'RATINGS_AVERAGE': 1,\n",
       " 'RATING': 2,\n",
       " 'SONG': 3,\n",
       " 'TITLE': 4,\n",
       " 'PLOT': 5,\n",
       " 'CHARACTER': 6,\n",
       " 'YEAR': 7,\n",
       " 'GENRE': 8,\n",
       " 'REVIEW': 9,\n",
       " 'ACTOR': 10,\n",
       " 'TRAILER': 11,\n",
       " 'O': 12}"
      ]
     },
     "execution_count": 92,
     "metadata": {},
     "output_type": "execute_result"
    }
   ],
   "source": [
    "def tag_dict(data):\n",
    "    data_flattened = [item for sublist in data for item in sublist]  \n",
    "    tags = list(set(data_flattened))    #list of tags\n",
    "    tag_idx={}\n",
    "    for x,tag in enumerate(tags):\n",
    "        tag_idx[tag]=x                  #dict of tags\n",
    "    return tag_idx, len(tag_idx), tags\n",
    "\n",
    "y_dict, dictTot, tags = tag_dict(train_y)\n",
    "\n",
    "y_dict"
   ]
  },
  {
   "cell_type": "code",
   "execution_count": 93,
   "metadata": {
    "scrolled": true
   },
   "outputs": [
    {
     "data": {
      "text/plain": [
       "array([[0., 0., 0., 0., 0., 0., 0., 0., 0., 0., 0., 0., 1.],\n",
       "       [0., 0., 0., 0., 0., 0., 0., 0., 0., 0., 0., 0., 1.],\n",
       "       [0., 0., 0., 0., 0., 0., 0., 0., 0., 0., 0., 0., 1.],\n",
       "       [0., 0., 0., 0., 0., 0., 0., 0., 0., 0., 1., 0., 0.],\n",
       "       [0., 0., 0., 0., 0., 0., 0., 0., 0., 0., 1., 0., 0.],\n",
       "       [0., 0., 0., 0., 0., 0., 0., 0., 0., 0., 0., 0., 1.],\n",
       "       [0., 0., 0., 0., 0., 0., 0., 0., 0., 0., 0., 0., 1.],\n",
       "       [0., 0., 0., 0., 0., 0., 0., 0., 0., 0., 0., 0., 1.],\n",
       "       [0., 0., 0., 0., 0., 0., 0., 0., 0., 0., 0., 0., 1.],\n",
       "       [0., 0., 0., 0., 0., 0., 0., 0., 0., 0., 0., 0., 1.],\n",
       "       [0., 0., 0., 0., 0., 0., 0., 0., 0., 0., 0., 0., 1.],\n",
       "       [0., 0., 0., 0., 0., 0., 0., 0., 0., 0., 0., 0., 1.],\n",
       "       [0., 0., 0., 0., 0., 0., 0., 0., 0., 0., 0., 0., 1.],\n",
       "       [0., 0., 0., 0., 0., 0., 0., 0., 0., 0., 0., 0., 1.],\n",
       "       [0., 0., 0., 0., 0., 0., 0., 0., 0., 0., 0., 0., 1.],\n",
       "       [0., 0., 0., 0., 0., 0., 0., 0., 0., 0., 0., 0., 1.],\n",
       "       [0., 0., 0., 0., 0., 0., 0., 0., 0., 0., 0., 0., 1.],\n",
       "       [0., 0., 0., 0., 0., 0., 0., 0., 0., 0., 0., 0., 1.],\n",
       "       [0., 0., 0., 0., 0., 0., 0., 0., 0., 0., 0., 0., 1.],\n",
       "       [0., 0., 0., 0., 0., 0., 0., 0., 0., 0., 0., 0., 1.]],\n",
       "      dtype=float32)"
      ]
     },
     "execution_count": 93,
     "metadata": {},
     "output_type": "execute_result"
    }
   ],
   "source": [
    "def tag_transform(tag_dict, data_y, max_len):\n",
    "    y = [[tag_dict[w] for w in s] for s in data_y]\n",
    "    y =pad_sequences(y, maxlen=max_len, padding='post', value = y_dict['O'])\n",
    "    y = [to_categorical(i, num_classes = dictTot) for i in  y]\n",
    "    return y\n",
    "\n",
    "train_y_idx = tag_transform(y_dict,train_y,MAX_LEN)\n",
    "test_y_idx = tag_transform(y_dict,test_y,MAX_LEN)\n",
    "\n",
    "train_y_idx[0][:20]"
   ]
  },
  {
   "cell_type": "markdown",
   "metadata": {},
   "source": [
    "## Model Selection and evaluation\n",
    "\n",
    "Now that the data is transformed into the correct format, I proceed to build the model. \n",
    "\n",
    "I will use a Bidirectional LSTM (Long Short Term Memory) model as these models tend to perform well on natural language tasks. When assessing a word, Bidirectional LSTM models are capabe of taking account previous words and later words in the sentence in order to provide context, this is one of the main advantages of this model as the nature of a word is often defined by it's context within a sentence.\n",
    "\n",
    "For this model I will also use a dropout layer and a recurrent dropout in order to regularize the model to ensure it generalizes well to unseen data.\n",
    "\n",
    "Finally, I've placed a dense layer right after the LSTM layer with 13 outputs (1 for each category) from which later I can pick the vector output with the highest probability as the predicted tag for the specific word."
   ]
  },
  {
   "cell_type": "code",
   "execution_count": 139,
   "metadata": {},
   "outputs": [],
   "source": [
    "DIM = 100  #dimension of word embedding\n",
    "\n",
    "#####Model#####\n",
    "input_words = Input(shape = (MAX_LEN,))\n",
    "model = Embedding(input_dim = MAX_WORDS, output_dim = DIM, input_length = MAX_LEN)(input_words)\n",
    "model = Dropout(0.2)(model)\n",
    "model = Bidirectional(LSTM(units = 128,return_sequences = True, recurrent_dropout = 0.1))(model)\n",
    "out = TimeDistributed(Dense(dictTot, activation = 'softmax'))(model)\n",
    "model = Model(inputs=input_words, outputs=out)"
   ]
  },
  {
   "cell_type": "markdown",
   "metadata": {},
   "source": [
    "I will compile the model using an adam optimizer and use the categorical crossentropy loss function (as I'm trying to predict the different categories of tags). Finally, I will use accuracy as the performance metric to evaluate the model."
   ]
  },
  {
   "cell_type": "code",
   "execution_count": 140,
   "metadata": {},
   "outputs": [
    {
     "name": "stdout",
     "output_type": "stream",
     "text": [
      "Model: \"functional_17\"\n",
      "_________________________________________________________________\n",
      "Layer (type)                 Output Shape              Param #   \n",
      "=================================================================\n",
      "input_10 (InputLayer)        [(None, 50)]              0         \n",
      "_________________________________________________________________\n",
      "embedding_9 (Embedding)      (None, 50, 100)           1000000   \n",
      "_________________________________________________________________\n",
      "dropout_9 (Dropout)          (None, 50, 100)           0         \n",
      "_________________________________________________________________\n",
      "bidirectional_9 (Bidirection (None, 50, 256)           234496    \n",
      "_________________________________________________________________\n",
      "time_distributed_9 (TimeDist (None, 50, 13)            3341      \n",
      "=================================================================\n",
      "Total params: 1,237,837\n",
      "Trainable params: 1,237,837\n",
      "Non-trainable params: 0\n",
      "_________________________________________________________________\n"
     ]
    }
   ],
   "source": [
    "model.compile(optimizer = 'adam',loss = 'categorical_crossentropy',metrics = ['accuracy'])\n",
    "model.summary()"
   ]
  },
  {
   "cell_type": "markdown",
   "metadata": {},
   "source": [
    "Above,I can see the layers and total parameters of my model as well as the tensor shapes of each layer. I want to make sure that my X and Y have the same dimensions as the model input and output."
   ]
  },
  {
   "cell_type": "code",
   "execution_count": 141,
   "metadata": {},
   "outputs": [
    {
     "name": "stdout",
     "output_type": "stream",
     "text": [
      "(9775, 50)\n",
      "(9775, 50, 13)\n"
     ]
    }
   ],
   "source": [
    "train_y_idx=np.array(train_y_idx)\n",
    "test_y_idx=np.array(test_y_idx)\n",
    "\n",
    "print(train_x_idx.shape)\n",
    "print(train_y_idx.shape)"
   ]
  },
  {
   "cell_type": "markdown",
   "metadata": {},
   "source": [
    "I can see that the dimensions match with the model requirements, so I proceed to fit the model. I use an input batch size of 64, I will leave 20% of the data for validation, and will run 10 epochs on the model."
   ]
  },
  {
   "cell_type": "code",
   "execution_count": 142,
   "metadata": {},
   "outputs": [
    {
     "name": "stdout",
     "output_type": "stream",
     "text": [
      "Epoch 1/10\n",
      "123/123 [==============================] - 70s 573ms/step - loss: 0.4700 - accuracy: 0.9152 - val_loss: 0.3079 - val_accuracy: 0.9204\n",
      "Epoch 2/10\n",
      "123/123 [==============================] - 64s 519ms/step - loss: 0.2480 - accuracy: 0.9289 - val_loss: 0.1780 - val_accuracy: 0.9467\n",
      "Epoch 3/10\n",
      "123/123 [==============================] - 63s 514ms/step - loss: 0.1406 - accuracy: 0.9636 - val_loss: 0.0962 - val_accuracy: 0.9763\n",
      "Epoch 4/10\n",
      "123/123 [==============================] - 66s 533ms/step - loss: 0.0838 - accuracy: 0.9793 - val_loss: 0.0695 - val_accuracy: 0.9808\n",
      "Epoch 5/10\n",
      "123/123 [==============================] - 77s 623ms/step - loss: 0.0611 - accuracy: 0.9841 - val_loss: 0.0613 - val_accuracy: 0.9829\n",
      "Epoch 6/10\n",
      "123/123 [==============================] - 72s 586ms/step - loss: 0.0502 - accuracy: 0.9864 - val_loss: 0.0601 - val_accuracy: 0.9825\n",
      "Epoch 7/10\n",
      "123/123 [==============================] - 72s 584ms/step - loss: 0.0428 - accuracy: 0.9884 - val_loss: 0.0535 - val_accuracy: 0.9846\n",
      "Epoch 8/10\n",
      "123/123 [==============================] - 73s 590ms/step - loss: 0.0372 - accuracy: 0.9898 - val_loss: 0.0517 - val_accuracy: 0.9848\n",
      "Epoch 9/10\n",
      "123/123 [==============================] - 89s 720ms/step - loss: 0.0330 - accuracy: 0.9908 - val_loss: 0.0575 - val_accuracy: 0.9839\n",
      "Epoch 10/10\n",
      "123/123 [==============================] - 86s 697ms/step - loss: 0.0297 - accuracy: 0.9918 - val_loss: 0.0594 - val_accuracy: 0.9830\n"
     ]
    },
    {
     "data": {
      "text/plain": [
       "<tensorflow.python.keras.callbacks.History at 0x35889400>"
      ]
     },
     "execution_count": 142,
     "metadata": {},
     "output_type": "execute_result"
    }
   ],
   "source": [
    "model.fit(train_x_idx, train_y_idx, batch_size = 64, verbose = 1, epochs = 10, validation_split = 0.2)"
   ]
  },
  {
   "cell_type": "markdown",
   "metadata": {},
   "source": [
    "I can see that the model has performed very well on the training data, achieving 99.18% accuracy. Now, I will run the model on the test data to see how it performs and ensure it's not overfitting. "
   ]
  },
  {
   "cell_type": "code",
   "execution_count": 143,
   "metadata": {},
   "outputs": [
    {
     "name": "stdout",
     "output_type": "stream",
     "text": [
      "77/77 [==============================] - 5s 63ms/step - loss: 0.0658 - accuracy: 0.9825\n"
     ]
    },
    {
     "data": {
      "text/plain": [
       "[0.06583928316831589, 0.9825214743614197]"
      ]
     },
     "execution_count": 143,
     "metadata": {},
     "output_type": "execute_result"
    }
   ],
   "source": [
    "model.evaluate(test_x_idx, test_y_idx)"
   ]
  },
  {
   "cell_type": "markdown",
   "metadata": {},
   "source": [
    "The model performs quite well on the test data, achieving 98,25% accuracy which means it's generalizing well to unseen data."
   ]
  },
  {
   "cell_type": "markdown",
   "metadata": {},
   "source": [
    "Finally, I've created a function that can be used to test the model with any new sentence the user would like to try."
   ]
  },
  {
   "cell_type": "code",
   "execution_count": 144,
   "metadata": {},
   "outputs": [],
   "source": [
    "def text_predict(text):\n",
    "    word_list = text.split(\" \")\n",
    "    \n",
    "    #tokenize and pad\n",
    "    x_idx=tokenizer.texts_to_sequences([text])\n",
    "    x_idx = pad_sequences(x_idx, maxlen=MAX_LEN, padding='post')\n",
    "                          \n",
    "    #predict tags                     \n",
    "    p = model.predict(np.array(x_idx))\n",
    "    p = np.argmax(p, axis = -1)\n",
    "                          \n",
    "    #present results                      \n",
    "    print(\"{:10}\\t{}\\n\".format(\"Word\", \"Prediction\"))\n",
    "    print(\"-\" * 25)\n",
    "    for (w, pred) in zip(range(len(word_list)), p[0][:(len(text))]):\n",
    "        print(\"{:10}\\t{}\".format(word_list[w], tags[pred]))\n"
   ]
  },
  {
   "cell_type": "markdown",
   "metadata": {},
   "source": [
    "Below, I try a new sentence to see how well my model categorizes each word."
   ]
  },
  {
   "cell_type": "code",
   "execution_count": 145,
   "metadata": {},
   "outputs": [
    {
     "name": "stdout",
     "output_type": "stream",
     "text": [
      "Word      \tPrediction\n",
      "\n",
      "-------------------------\n",
      "did       \tO\n",
      "brad      \tACTOR\n",
      "pitt      \tACTOR\n",
      "star      \tO\n",
      "in        \tO\n",
      "the       \tO\n",
      "action    \tGENRE\n",
      "movie     \tO\n",
      "fight     \tTITLE\n",
      "club?     \tTITLE\n"
     ]
    }
   ],
   "source": [
    "text_predict(\"did brad pitt star in the action movie fight club?\")"
   ]
  },
  {
   "cell_type": "markdown",
   "metadata": {},
   "source": [
    "I can see that the model is predicting well that Brad Pitt is an actor, that 'action' is a movie gender, and that Fight Club is the title of the movie.  "
   ]
  },
  {
   "cell_type": "markdown",
   "metadata": {},
   "source": [
    "## Potential Improvements\n",
    "\n",
    "For next steps, different hyperparameter values can be tried to see if the performance of the model improves. The model could be trained for more epochs, we could see how in every epoch the model improved, in the final epochs the improvements were smaller, nevertheless training for more epochs will most likely result in a slight improvement of performance. Different dropout values could be tried to see if the model generalizes better to the test data. A different architecture could also be tried, as an example a Second LSTM layer could be place on top of the first one, an another dropout layer could be added, A Conditional Random field (CRF) layer could also be added after the second LSTM layer, Bi-LSTM to CRF models have shown to perform well on NER tasks. Finally, changing the input sentence length to accept more words in the sentences could potencially improve the model performance."
   ]
  },
  {
   "cell_type": "markdown",
   "metadata": {},
   "source": [
    "# Second Dataset: trivia10k13test.bio\n",
    "\n",
    "For entity extraction in the second dataset I will use the same process I used in the first section and reuse some of the earlier functions. The first model gave good results so I will build and train a similar model for this dataset. "
   ]
  },
  {
   "cell_type": "markdown",
   "metadata": {},
   "source": [
    "## Data Load"
   ]
  },
  {
   "cell_type": "code",
   "execution_count": 63,
   "metadata": {},
   "outputs": [
    {
     "name": "stderr",
     "output_type": "stream",
     "text": [
      "  % Total    % Received % Xferd  Average Speed   Time    Time     Time  Current\n",
      "                                 Dload  Upload   Total   Spent    Left  Speed\n",
      "\n",
      "  0     0    0     0    0     0      0      0 --:--:-- --:--:-- --:--:--     0\n",
      "  0     0    0     0    0     0      0      0 --:--:-- --:--:-- --:--:--     0\n",
      "  0  428k    0     0    0     0      0      0 --:--:--  0:00:01 --:--:--     0\n",
      "100  428k  100  428k    0     0   254k      0  0:00:01  0:00:01 --:--:--  254k\n",
      "  % Total    % Received % Xferd  Average Speed   Time    Time     Time  Current\n",
      "                                 Dload  Upload   Total   Spent    Left  Speed\n",
      "\n",
      "  0     0    0     0    0     0      0      0 --:--:-- --:--:-- --:--:--     0\n",
      "  0     0    0     0    0     0      0      0 --:--:-- --:--:-- --:--:--     0\n",
      "  5 1743k    5 98304    0     0  81715      0  0:00:21  0:00:01  0:00:20 81715\n",
      "100 1743k  100 1743k    0     0   815k      0  0:00:02  0:00:02 --:--:--  815k\n"
     ]
    }
   ],
   "source": [
    "!curl https://groups.csail.mit.edu/sls/downloads/movie/trivia10k13test.bio -o data/test2.txt\n",
    "!curl https://groups.csail.mit.edu/sls/downloads/movie/trivia10k13train.bio -o data/train2.txt    "
   ]
  },
  {
   "cell_type": "code",
   "execution_count": 123,
   "metadata": {},
   "outputs": [],
   "source": [
    "train2_x, train2_y = load_data(\"data/train2.txt\")\n",
    "test2_x, test2_y = load_data(\"data/test2.txt\")"
   ]
  },
  {
   "cell_type": "code",
   "execution_count": 124,
   "metadata": {},
   "outputs": [
    {
     "data": {
      "text/plain": [
       "['steve mcqueen provided a thrilling motorcycle chase in this greatest of all ww 2 prison escape movies',\n",
       " 'liza minnelli and joel gray won oscars for their roles in this 1972 movie that follows nightclub entertainers in berlin as the nazis come to power',\n",
       " 'what is that tom hanks and julia roberts movie about hanks who plays a down on his luck average guy who goes back to college and gets taught by roberts',\n",
       " 'what is the movie making fun of macgyver by re enacting scenes similar to his movies',\n",
       " 'i am thinking of an animated film based on a classic theodor geisel children s novel about a young boy s quest to save the trees']"
      ]
     },
     "execution_count": 124,
     "metadata": {},
     "output_type": "execute_result"
    }
   ],
   "source": [
    "train2_x[:5]"
   ]
  },
  {
   "cell_type": "code",
   "execution_count": 125,
   "metadata": {},
   "outputs": [
    {
     "name": "stdout",
     "output_type": "stream",
     "text": [
      "train data\n",
      "total amount of sentences: 7816\n",
      "Maximum sentence length: 396\n",
      "test data\n",
      "total amount of sentences: 1953\n",
      "Maximum sentence length: 364\n"
     ]
    }
   ],
   "source": [
    "print('train data')\n",
    "sentence_feat(train2_x)\n",
    "print('test data')\n",
    "sentence_feat(test2_x)"
   ]
  },
  {
   "cell_type": "code",
   "execution_count": 126,
   "metadata": {},
   "outputs": [
    {
     "data": {
      "image/png": "[encoded data removed]",
      "text/plain": [
       "<Figure size 1008x504 with 1 Axes>"
      ]
     },
     "metadata": {
      "needs_background": "light"
     },
     "output_type": "display_data"
    }
   ],
   "source": [
    "sentence_hist(train2_x)"
   ]
  },
  {
   "cell_type": "markdown",
   "metadata": {},
   "source": [
    "Sentences are longer in this new data set. In the histogram I can see that the average length of sentences is near 100 words per sentence. I will use 100 as the max sentence length for the model input."
   ]
  },
  {
   "cell_type": "markdown",
   "metadata": {},
   "source": [
    "## Preprocessing"
   ]
  },
  {
   "cell_type": "code",
   "execution_count": 127,
   "metadata": {},
   "outputs": [],
   "source": [
    "MAX_LEN2=100\n",
    "\n",
    "#fit tokenizer\n",
    "tokenizer2 = Tokenizer (num_words=MAX_WORDS, oov_token='<OOV>')\n",
    "tokenizer2.fit_on_texts(train2_x)\n",
    "word_index = tokenizer2.word_index\n",
    "\n",
    "#tokenize & pad train data\n",
    "train2_x_idx = tokenizer2.texts_to_sequences(train2_x)\n",
    "train2_x_idx = pad_sequences(train2_x_idx, maxlen=MAX_LEN2, padding='post')\n",
    "\n",
    "#tokenize & pad test data\n",
    "test2_x_idx = tokenizer.texts_to_sequences(test2_x)\n",
    "test2_x_idx = pad_sequences(test2_x_idx, maxlen=MAX_LEN2, padding='post')"
   ]
  },
  {
   "cell_type": "code",
   "execution_count": 128,
   "metadata": {},
   "outputs": [
    {
     "data": {
      "text/plain": [
       "{'Origin': 0,\n",
       " 'Award': 1,\n",
       " 'Director': 2,\n",
       " 'Actor': 3,\n",
       " 'Character_Name': 4,\n",
       " 'Opinion': 5,\n",
       " 'Plot': 6,\n",
       " 'Soundtrack': 7,\n",
       " 'Quote': 8,\n",
       " 'Genre': 9,\n",
       " 'Relationship': 10,\n",
       " 'Year': 11,\n",
       " 'O': 12}"
      ]
     },
     "execution_count": 128,
     "metadata": {},
     "output_type": "execute_result"
    }
   ],
   "source": [
    "y2_dict, dictTot2, tags2 = tag_dict(train2_y)\n",
    "y2_dict"
   ]
  },
  {
   "cell_type": "code",
   "execution_count": 129,
   "metadata": {},
   "outputs": [],
   "source": [
    "train2_y_idx = tag_transform(y2_dict,train2_y,MAX_LEN2)\n",
    "test2_y_idx = tag_transform(y2_dict,test2_y,MAX_LEN2)"
   ]
  },
  {
   "cell_type": "code",
   "execution_count": 130,
   "metadata": {},
   "outputs": [
    {
     "data": {
      "text/plain": [
       "array([[0., 0., 0., 1., 0., 0., 0., 0., 0., 0., 0., 0., 0.],\n",
       "       [0., 0., 0., 1., 0., 0., 0., 0., 0., 0., 0., 0., 0.],\n",
       "       [0., 0., 0., 0., 0., 0., 0., 0., 0., 0., 0., 0., 1.],\n",
       "       [0., 0., 0., 0., 0., 0., 0., 0., 0., 0., 0., 0., 1.],\n",
       "       [0., 0., 0., 0., 0., 0., 1., 0., 0., 0., 0., 0., 0.],\n",
       "       [0., 0., 0., 0., 0., 0., 1., 0., 0., 0., 0., 0., 0.],\n",
       "       [0., 0., 0., 0., 0., 0., 1., 0., 0., 0., 0., 0., 0.],\n",
       "       [0., 0., 0., 0., 0., 0., 1., 0., 0., 0., 0., 0., 0.],\n",
       "       [0., 0., 0., 0., 0., 0., 1., 0., 0., 0., 0., 0., 0.],\n",
       "       [0., 0., 0., 0., 0., 1., 0., 0., 0., 0., 0., 0., 0.],\n",
       "       [0., 0., 0., 0., 0., 1., 0., 0., 0., 0., 0., 0., 0.],\n",
       "       [0., 0., 0., 0., 0., 1., 0., 0., 0., 0., 0., 0., 0.],\n",
       "       [0., 0., 0., 0., 0., 0., 1., 0., 0., 0., 0., 0., 0.],\n",
       "       [0., 0., 0., 0., 0., 0., 1., 0., 0., 0., 0., 0., 0.],\n",
       "       [0., 0., 0., 0., 0., 0., 1., 0., 0., 0., 0., 0., 0.],\n",
       "       [0., 0., 0., 0., 0., 0., 1., 0., 0., 0., 0., 0., 0.],\n",
       "       [0., 0., 0., 0., 0., 0., 1., 0., 0., 0., 0., 0., 0.],\n",
       "       [0., 0., 0., 0., 0., 0., 0., 0., 0., 0., 0., 0., 1.],\n",
       "       [0., 0., 0., 0., 0., 0., 0., 0., 0., 0., 0., 0., 1.],\n",
       "       [0., 0., 0., 0., 0., 0., 0., 0., 0., 0., 0., 0., 1.]],\n",
       "      dtype=float32)"
      ]
     },
     "execution_count": 130,
     "metadata": {},
     "output_type": "execute_result"
    }
   ],
   "source": [
    "train2_y_idx[0][:20]"
   ]
  },
  {
   "cell_type": "markdown",
   "metadata": {},
   "source": [
    "## Model Selection and evaluation"
   ]
  },
  {
   "cell_type": "code",
   "execution_count": 131,
   "metadata": {},
   "outputs": [],
   "source": [
    "input_words2 = Input(shape = (MAX_LEN2,))\n",
    "model2 = Embedding(input_dim = MAX_WORDS, output_dim = DIM, input_length = MAX_LEN2)(input_words2)\n",
    "model2 = Dropout(0.2)(model2)\n",
    "model2 = Bidirectional(LSTM(units = 128,return_sequences = True, recurrent_dropout = 0.1))(model2)\n",
    "out2 = TimeDistributed(Dense(dictTot2, activation = 'softmax'))(model2)\n",
    "model2 = Model(inputs=input_words2, outputs=out2)"
   ]
  },
  {
   "cell_type": "code",
   "execution_count": 135,
   "metadata": {},
   "outputs": [
    {
     "name": "stdout",
     "output_type": "stream",
     "text": [
      "Model: \"functional_15\"\n",
      "_________________________________________________________________\n",
      "Layer (type)                 Output Shape              Param #   \n",
      "=================================================================\n",
      "input_9 (InputLayer)         [(None, 100)]             0         \n",
      "_________________________________________________________________\n",
      "embedding_8 (Embedding)      (None, 100, 100)          1000000   \n",
      "_________________________________________________________________\n",
      "dropout_8 (Dropout)          (None, 100, 100)          0         \n",
      "_________________________________________________________________\n",
      "bidirectional_8 (Bidirection (None, 100, 256)          234496    \n",
      "_________________________________________________________________\n",
      "time_distributed_8 (TimeDist (None, 100, 13)           3341      \n",
      "=================================================================\n",
      "Total params: 1,237,837\n",
      "Trainable params: 1,237,837\n",
      "Non-trainable params: 0\n",
      "_________________________________________________________________\n"
     ]
    }
   ],
   "source": [
    "model2.compile(optimizer = 'adam',loss = 'categorical_crossentropy',metrics = ['accuracy'])\n",
    "model2.summary()"
   ]
  },
  {
   "cell_type": "code",
   "execution_count": 136,
   "metadata": {},
   "outputs": [
    {
     "name": "stdout",
     "output_type": "stream",
     "text": [
      "(7816, 100)\n",
      "(7816, 100, 13)\n"
     ]
    }
   ],
   "source": [
    "train2_y_idx=np.array(train2_y_idx)\n",
    "test2_y_idx=np.array(test2_y_idx)\n",
    "\n",
    "print(train2_x_idx.shape)\n",
    "print(train2_y_idx.shape)"
   ]
  },
  {
   "cell_type": "code",
   "execution_count": 137,
   "metadata": {},
   "outputs": [
    {
     "name": "stdout",
     "output_type": "stream",
     "text": [
      "Epoch 1/10\n",
      "98/98 [==============================] - 128s 1s/step - loss: 0.4977 - accuracy: 0.8793 - val_loss: 0.3272 - val_accuracy: 0.9115\n",
      "Epoch 2/10\n",
      "98/98 [==============================] - 131s 1s/step - loss: 0.2491 - accuracy: 0.9359 - val_loss: 0.2334 - val_accuracy: 0.9290\n",
      "Epoch 3/10\n",
      "98/98 [==============================] - 128s 1s/step - loss: 0.1744 - accuracy: 0.9482 - val_loss: 0.1751 - val_accuracy: 0.9484\n",
      "Epoch 4/10\n",
      "98/98 [==============================] - 122s 1s/step - loss: 0.1282 - accuracy: 0.9632 - val_loss: 0.1362 - val_accuracy: 0.9592\n",
      "Epoch 5/10\n",
      "98/98 [==============================] - 137s 1s/step - loss: 0.0986 - accuracy: 0.9715 - val_loss: 0.1142 - val_accuracy: 0.9650\n",
      "Epoch 6/10\n",
      "98/98 [==============================] - 120s 1s/step - loss: 0.0815 - accuracy: 0.9758 - val_loss: 0.1021 - val_accuracy: 0.9693\n",
      "Epoch 7/10\n",
      "98/98 [==============================] - 115s 1s/step - loss: 0.0699 - accuracy: 0.9790 - val_loss: 0.0951 - val_accuracy: 0.9712\n",
      "Epoch 8/10\n",
      "98/98 [==============================] - 132s 1s/step - loss: 0.0603 - accuracy: 0.9812 - val_loss: 0.0938 - val_accuracy: 0.9724\n",
      "Epoch 9/10\n",
      "98/98 [==============================] - 130s 1s/step - loss: 0.0529 - accuracy: 0.9832 - val_loss: 0.0927 - val_accuracy: 0.9721\n",
      "Epoch 10/10\n",
      "98/98 [==============================] - 134s 1s/step - loss: 0.0477 - accuracy: 0.9845 - val_loss: 0.0897 - val_accuracy: 0.9728\n"
     ]
    },
    {
     "data": {
      "text/plain": [
       "<tensorflow.python.keras.callbacks.History at 0x47ffd580>"
      ]
     },
     "execution_count": 137,
     "metadata": {},
     "output_type": "execute_result"
    }
   ],
   "source": [
    "model2.fit(train2_x_idx, train2_y_idx, batch_size = 64, verbose = 1, epochs = 10, validation_split = 0.2)"
   ]
  },
  {
   "cell_type": "code",
   "execution_count": 138,
   "metadata": {},
   "outputs": [
    {
     "name": "stdout",
     "output_type": "stream",
     "text": [
      "62/62 [==============================] - 7s 111ms/step - loss: 0.5024 - accuracy: 0.8970\n"
     ]
    },
    {
     "data": {
      "text/plain": [
       "[0.5023682713508606, 0.8970404267311096]"
      ]
     },
     "execution_count": 138,
     "metadata": {},
     "output_type": "execute_result"
    }
   ],
   "source": [
    "model2.evaluate(test2_x_idx, test2_y_idx)"
   ]
  },
  {
   "cell_type": "markdown",
   "metadata": {},
   "source": [
    "## Potential Improvements\n",
    "The model reaches 98.45% accuracy in the training data and 89.7% in the test data. This means that the model has a good performance, yet it's slightly overfitting the data, there is almost a 10% decrease in accuracy between the training and testing data. This means there's an opportunity to improve the regularization of the model in order for it to generalize better to unseen data. The potential improvements described in the first section can be applied to this model, in particular it would be useful to try different dropout values or layers, and try applying L2 regularization to the weights of the neural network."
   ]
  }
 ],
 "metadata": {
  "kernelspec": {
   "display_name": "Python 3",
   "language": "python",
   "name": "python3"
  },
  "language_info": {
   "codemirror_mode": {
    "name": "ipython",
    "version": 3
   },
   "file_extension": ".py",
   "mimetype": "text/x-python",
   "name": "python",
   "nbconvert_exporter": "python",
   "pygments_lexer": "ipython3",
   "version": "3.8.3"
  }
 },
 "nbformat": 4,
 "nbformat_minor": 4
}
